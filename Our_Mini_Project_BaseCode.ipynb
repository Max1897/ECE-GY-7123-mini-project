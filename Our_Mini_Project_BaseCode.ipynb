{
  "nbformat": 4,
  "nbformat_minor": 0,
  "metadata": {
    "colab": {
      "provenance": []
    },
    "kernelspec": {
      "name": "python3",
      "display_name": "Python 3"
    },
    "language_info": {
      "name": "python"
    },
    "accelerator": "GPU",
    "gpuClass": "premium"
  },
  "cells": [
    {
      "cell_type": "markdown",
      "source": [
        "## **Step 1: Import packages**"
      ],
      "metadata": {
        "id": "YZc5DUfZBVIc"
      }
    },
    {
      "cell_type": "code",
      "source": [
        "import datetime\n",
        "import matplotlib.pyplot as plt\n",
        "import numpy as np\n",
        "import ssl\n",
        "import torch\n",
        "import torch.nn as nn\n",
        "import torch.nn.functional as F\n",
        "\n",
        "from torchsummary import summary\n",
        "from torchvision import transforms\n",
        "from torchvision import datasets\n",
        "\n",
        "from torch.optim.lr_scheduler import StepLR\n",
        "\n",
        "ssl._create_default_https_context = ssl._create_unverified_context"
      ],
      "metadata": {
        "id": "kU-WAyVoBgYc"
      },
      "execution_count": 79,
      "outputs": []
    },
    {
      "cell_type": "markdown",
      "source": [
        "## **Step 2: Set Up Hyper-Parameters for Fine Tuning:**\n",
        "\n",
        "\n",
        "1.   Training process for Train/Validation data\n",
        "2.   Train model and generate test data accuracy after fine tuning"
      ],
      "metadata": {
        "id": "_Vblx7HyD6Fo"
      }
    },
    {
      "cell_type": "code",
      "source": [
        "# Batch size for each data iteration\n",
        "# Make a change from 128 to 32\n",
        "BATCH_SIZE = 128\n",
        "\n",
        "# The ratio of split the validation set out of the original training set\n",
        "VALID_RATIO = 0.1\n",
        "\n",
        "# Learning Rate\n",
        "LR = 0.01\n",
        "\n",
        "# Kernel Size for the basic block of resnet\n",
        "KERNEL_SIZE = 3\n",
        "\n",
        "# Padding for the basic block of resnet\n",
        "PADDING = 1\n",
        "\n",
        "# Learning Rate Decay\n",
        "LR_DECAY = 0.001\n",
        "\n",
        "# Learning Rate Decay Period. For example, apply decay to learning rate every X epochs\n",
        "LR_DECAY_PERIOD = 2\n",
        "\n",
        "# ResNet's number of input channel\n",
        "CHANNEL = 42\n",
        "\n",
        "# Number of epoch\n",
        "EPOCH_NUM = 30\n",
        "\n",
        "# The following WEIGHT_DECAY and MOMENTUM and DAMPENING is for SGD Optimizer   \n",
        "# Weight Decay\n",
        "WEIGHT_DECAY = 0.001\n",
        "\n",
        "# Dampening\n",
        "# DAMPENING = 0.05\n",
        "\n",
        "# Momentum\n",
        "MOMENTUM = 0.9"
      ],
      "metadata": {
        "id": "OW27X-5oGDCv"
      },
      "execution_count": 80,
      "outputs": []
    },
    {
      "cell_type": "markdown",
      "source": [
        "##  **Step 3: Extract and Optimize the RAW CIFAR-10 Data:**\n",
        "\n",
        "1.   Create folders for Model and Log data\n",
        "2.   Split 10% of the RAW train data as valid data\n",
        "3.   Customize the Transform process for train and test data\n",
        "4.   Generate the:\n",
        "    *   Train and Valid Data Iteration: 50,000 rows of data\n",
        "    *   Train Data Iteration:           45,000 rows of data\n",
        "    *   Valid Data Iteration:            5,000 rows of data\n",
        "    *   Test Data Iteration:            10,000 rows of data"
      ],
      "metadata": {
        "id": "AbMLtNChCTmW"
      }
    },
    {
      "cell_type": "code",
      "source": [
        "# Create folders for Model and Log data\n",
        "!mkdir -p ./Train_With_Test_Log ./Train_With_Test_Model ./Train_With_Valid_Log ./Train_With_Valid_Model"
      ],
      "metadata": {
        "id": "p-EWKww9C6IT"
      },
      "execution_count": 81,
      "outputs": []
    },
    {
      "cell_type": "code",
      "source": [
        "# Design the Transform process for train and test data\n",
        "def train_transform(x):\n",
        "    image_aug = transforms.Compose([transforms.RandomCrop(32, padding=4),\n",
        "                                    transforms.RandomHorizontalFlip(p=0.5),\n",
        "                                    transforms.ToTensor(),\n",
        "                                    transforms.Normalize((0.4914,0.4822,0.4465), \n",
        "                                                         (0.2023,0.1994,0.2010))])\n",
        "    x = image_aug(x)\n",
        "    return x\n",
        "\n",
        "# Customize the Transform process for train and test data\n",
        "def test_transform(x):\n",
        "    image_aug = transforms.Compose([transforms.ToTensor(), transforms.Normalize((0.4914,0.4822,0.4465), \n",
        "                                                                                (0.2023,0.1994,0.2010))])\n",
        "    x = image_aug(x)\n",
        "    return x\n"
      ],
      "metadata": {
        "id": "3TLPN04cDQ9n"
      },
      "execution_count": 82,
      "outputs": []
    },
    {
      "cell_type": "code",
      "source": [
        "# Download the RAW data                                \n",
        "train_valid_ds = datasets.CIFAR10('Data', \n",
        "                                  train=True, \n",
        "                                  download=True, \n",
        "                                  transform=train_transform)\n",
        "test_ds = datasets.CIFAR10('Data', \n",
        "                           train=False, \n",
        "                           download=True, \n",
        "                           transform=test_transform)"
      ],
      "metadata": {
        "colab": {
          "base_uri": "https://localhost:8080/"
        },
        "id": "THN4Tb18DYrQ",
        "outputId": "64f9ee79-71a9-4ee8-94ab-539ce4481c0b"
      },
      "execution_count": 83,
      "outputs": [
        {
          "output_type": "stream",
          "name": "stdout",
          "text": [
            "Files already downloaded and verified\n",
            "Files already downloaded and verified\n"
          ]
        }
      ]
    },
    {
      "cell_type": "code",
      "source": [
        "# Split 10% of the RAW train data as valid data\n",
        "valid_ds_size = int(len(train_valid_ds) * VALID_RATIO)\n",
        "train_ds_size = len(train_valid_ds) - valid_ds_size\n",
        "\n",
        "# Split Train and Valid data\n",
        "train_ds, valid_ds = torch.utils.data.random_split(train_valid_ds, [train_ds_size, valid_ds_size]) \n"
      ],
      "metadata": {
        "id": "q6yuVl9EDj4Q"
      },
      "execution_count": 84,
      "outputs": []
    },
    {
      "cell_type": "markdown",
      "source": [
        "## **Step 4: Check Runtime's GPU Availability**\n"
      ],
      "metadata": {
        "id": "-rAxn1HCGNah"
      }
    },
    {
      "cell_type": "code",
      "source": [
        "train_on_gpu = torch.cuda.is_available()\n",
        "# check whether CUDA is available\n",
        "if not train_on_gpu:\n",
        "    print('CUDA is not available')\n",
        "else:\n",
        "    print('CUDA is available')\n",
        "    "
      ],
      "metadata": {
        "colab": {
          "base_uri": "https://localhost:8080/"
        },
        "id": "uEkb2gdSGZDu",
        "outputId": "7c0b5eb8-8853-444a-b07e-9132c2bd5832"
      },
      "execution_count": 85,
      "outputs": [
        {
          "output_type": "stream",
          "name": "stdout",
          "text": [
            "CUDA is available\n"
          ]
        }
      ]
    },
    {
      "cell_type": "markdown",
      "source": [
        "## **Step 5: Generate Train/Validation/Test Data Loader**"
      ],
      "metadata": {
        "id": "G95PiwmhJ_Dt"
      }
    },
    {
      "cell_type": "code",
      "source": [
        "# Generate the:\n",
        "# 1) Train and Valid Data Loader: 50,000 rows of data\n",
        "# 2) Train Data Loader: 45,000 rows of data\n",
        "# 3) Valid Data Loader: 5,000 rows of data\n",
        "# 4) Test Data Loader: 10,000 rows of data\n",
        "\n",
        "# Train and Valid Data Loader: 50,000 rows of data\n",
        "train_valid_loader = torch.utils.data.DataLoader(train_valid_ds, batch_size=BATCH_SIZE, shuffle=True, num_workers=3)\n",
        "\n",
        "# Train Valid Data Loader (Removed the 5,000 row for Validation): 50,000 rows of data\n",
        "train_loader = torch.utils.data.DataLoader(train_ds, batch_size=BATCH_SIZE, shuffle=True, num_workers=3)\n",
        "\n",
        "# Valid Data Loader: 5,000 rows of data\n",
        "valid_loader = torch.utils.data.DataLoader(valid_ds, batch_size=BATCH_SIZE, shuffle=False, num_workers=3)\n",
        "\n",
        "# Test Data Loader: 10,000 rows of data\n",
        "test_loader = torch.utils.data.DataLoader(test_ds, batch_size=BATCH_SIZE, shuffle=False, num_workers=3)"
      ],
      "metadata": {
        "id": "x-iNZYjbKN9J",
        "colab": {
          "base_uri": "https://localhost:8080/"
        },
        "outputId": "13dc3ec7-f35e-4874-8874-8be1ae04d432"
      },
      "execution_count": 86,
      "outputs": [
        {
          "output_type": "stream",
          "name": "stderr",
          "text": [
            "/usr/local/lib/python3.9/dist-packages/torch/utils/data/dataloader.py:561: UserWarning: This DataLoader will create 3 worker processes in total. Our suggested max number of worker in current system is 2, which is smaller than what this DataLoader is going to create. Please be aware that excessive worker creation might get DataLoader running slow or even freeze, lower the worker number to avoid potential slowness/freeze if necessary.\n",
            "  warnings.warn(_create_warning_msg(\n"
          ]
        }
      ]
    },
    {
      "cell_type": "markdown",
      "source": [
        "## **Step 6: Build the ResNet Model Architecture**"
      ],
      "metadata": {
        "id": "gwhFCuxPrcJQ"
      }
    },
    {
      "cell_type": "code",
      "source": [
        "# Build the Basic Block for ResNet Model\n",
        "class BasicBlock(nn.Module):\n",
        "\n",
        "    def __init__(self, in_planes, planes, stride=1):\n",
        "        super(BasicBlock, self).__init__()\n",
        "        self.conv1 = nn.Conv2d(\n",
        "            in_planes, planes, kernel_size=KERNEL_SIZE, stride=stride, padding=PADDING, bias=False)\n",
        "        self.bn1 = nn.BatchNorm2d(planes)\n",
        "        self.conv2 = nn.Conv2d(planes, planes, kernel_size=KERNEL_SIZE,\n",
        "                               stride=1, padding=PADDING, bias=False)\n",
        "        self.bn2 = nn.BatchNorm2d(planes)\n",
        "\n",
        "        self.shortcut = nn.Sequential()\n",
        "        if stride != 1 or in_planes != planes:\n",
        "            self.shortcut = nn.Sequential(\n",
        "                nn.Conv2d(in_planes, planes,\n",
        "                          kernel_size=1, stride=stride, bias=False),\n",
        "                nn.BatchNorm2d(planes)\n",
        "            )\n",
        "\n",
        "    def forward(self, x):\n",
        "        out = F.relu(self.bn1(self.conv1(x)))\n",
        "        out = self.bn2(self.conv2(out))\n",
        "        out += self.shortcut(x)\n",
        "        out = F.relu(out)\n",
        "        return out\n"
      ],
      "metadata": {
        "id": "5bUsz-K_r2Xb"
      },
      "execution_count": 87,
      "outputs": []
    },
    {
      "cell_type": "code",
      "source": [
        "# ResNet Module\n",
        "class ResNet(nn.Module):\n",
        "    def __init__(self, block, num_blocks, num_classes=10):\n",
        "        super(ResNet, self).__init__()\n",
        "        self.in_planes = CHANNEL\n",
        "\n",
        "        self.conv1 = nn.Conv2d(3, CHANNEL, kernel_size=3,\n",
        "                               stride=1, padding=1, bias=False)\n",
        "        self.bn1 = nn.BatchNorm2d(CHANNEL)\n",
        "        self.layer1 = self._make_layer(block, CHANNEL, num_blocks[0], stride=1)\n",
        "        self.layer2 = self._make_layer(block, CHANNEL*2, num_blocks[1], stride=2)\n",
        "        self.layer3 = self._make_layer(block, CHANNEL*4, num_blocks[2], stride=2)\n",
        "        self.layer4 = self._make_layer(block, CHANNEL*8, num_blocks[3], stride=2)\n",
        "        self.linear = nn.Linear(CHANNEL*8, num_classes)\n",
        "\n",
        "    def _make_layer(self, block, planes, num_blocks, stride):\n",
        "        strides = [stride] + [1]*(num_blocks-1)\n",
        "        layers = []\n",
        "        for stride in strides:\n",
        "            layers.append(block(self.in_planes, planes, stride))\n",
        "            self.in_planes = planes\n",
        "        return nn.Sequential(*layers)\n",
        "\n",
        "    def forward(self, x):\n",
        "        out = F.relu(self.bn1(self.conv1(x)))\n",
        "        out = self.layer1(out)\n",
        "        out = self.layer2(out)\n",
        "        out = self.layer3(out)\n",
        "        out = self.layer4(out)\n",
        "        out = F.avg_pool2d(out, 4)\n",
        "        out = out.view(out.size(0), -1)\n",
        "        out = self.linear(out)\n",
        "        return out\n",
        "\n",
        "def project_customized_model():\n",
        "    block = [2,2,2,2] # This is ResNet 18\n",
        "    return ResNet(BasicBlock, block)"
      ],
      "metadata": {
        "id": "a8n2EN31tLWR"
      },
      "execution_count": 88,
      "outputs": []
    },
    {
      "cell_type": "markdown",
      "source": [
        "# **Step 7: Train the ResNet model and Classifying the Test Data**\n",
        "\n",
        "\n",
        "*   Train the Training and Valid dataset with the the Fine Tuning Hyper Parameters\n",
        "*   Calculate and print the Test Accuracy\n"
      ],
      "metadata": {
        "id": "0zacW4gHt-eW"
      }
    },
    {
      "cell_type": "code",
      "source": [
        "from numpy.ma.core import exp\n",
        "def train_with_test(net,\n",
        "                    train_valid_loader,\n",
        "                    test_loader,\n",
        "                    batch_size,\n",
        "                    channel,\n",
        "                    epoch_num,\n",
        "                    lr,\n",
        "                    lr_decay,\n",
        "                    weight_decay,\n",
        "                    lr_decay_period,\n",
        "                    momentum):\n",
        "\n",
        "    loss = nn.CrossEntropyLoss()\n",
        "    optimizer = torch.optim.SGD(net.parameters(), lr=lr, momentum=momentum, weight_decay=weight_decay)\n",
        "    train_loss_history = []\n",
        "    test_loss_history = []\n",
        "    train_acc_history = []\n",
        "    test_acc_history = []\n",
        "    start_time = datetime.datetime.now()\n",
        "    model_path = 'Train_With_Test_Model/' + str(start_time) + '_model.pt'\n",
        "    best_test_acc = 0\n",
        "    print('Start trainning, time: ', start_time)\n",
        "    f = open(\"Train_With_Test_Log/\" + str(start_time) + \".txt\", 'a')\n",
        "    f.write('This is the method from paper, without grey random\\n')\n",
        "    f.write('hyperparamter:\\n')\n",
        "    f.write('lr_decay_period:' + str(lr_decay_period) + '\\n')\n",
        "    f.write('batch_size:' + str(batch_size) + '\\n')\n",
        "    f.write('lr:' + str(lr) + '\\n')\n",
        "    f.write('epoch_num:' + str(epoch_num) + '\\n')\n",
        "    f.write('momentum:' + str(momentum) + '\\n')\n",
        "    f.write('weight_decay:' + str(weight_decay) + '\\n')\n",
        "    f.write('channel:' + str(channel) + '\\n')\n",
        "    f.write('Begin training, time: ' + str(start_time) + '\\n')\n",
        "    print(\"Total #Params: \", sum(p.numel() for p in net.parameters() if p.requires_grad))\n",
        "    print(\"-----------------------------------------------------------------------------------------------------\")\n",
        "    line_new = \"{:>5} {:>15} {:>15} {:>15} {:>15} {:>10} {:>20}\".format(\n",
        "        \"Epoch\", \"Train loss\", \"Test loss\", \"Train accuracy\", \"Test accuracy\", \"lr\", \"Running time\")\n",
        "    print(line_new)\n",
        "    print(\"#####################################################################################################\")\n",
        "    for epoch in range(epoch_num):\n",
        "        # Common Learning Rate Decay Method\n",
        "        # if epoch != 0 and epoch % lr_decay_period == 0:\n",
        "        #   print('-->Learning Rate before decay: ', lr)\n",
        "        #   lr_decay = LR_DECAY\n",
        "        #   # This is the core algorithm\n",
        "        #   lr *= 1/(1+lr_decay*epoch_num)\n",
        "        #   optimizer = torch.optim.SGD(net.parameters(), lr=lr, momentum=momentum, weight_decay=weight_decay)\n",
        "        #   print('***lr_decay: ', LR_DECAY)\n",
        "        #   print('***lr after decay: ', lr)\n",
        "        #   f.write('lr decays \\n')\n",
        "\n",
        "\n",
        "        # Exponential Learning Rate Decay Method\n",
        "        # if epoch != 0 and epoch % lr_decay_period == 0:\n",
        "        #   print('-->Learning Rate before decay: ', lr)\n",
        "        #   lr_decay = LR_DECAY\n",
        "        #   # This is the core algorithm\n",
        "        #   lr *= exp(-lr_decay * epoch_num)\n",
        "        #   optimizer = torch.optim.SGD(net.parameters(), lr=lr, momentum=momentum, weight_decay=weight_decay)\n",
        "        #   print('***lr_decay: ', LR_DECAY)\n",
        "        #   print('***lr after decay: ', lr)\n",
        "        #   f.write('lr decays \\n')\n",
        "\n",
        "        # Constant Learning Rate Decay Method\n",
        "        if epoch != 0 and epoch % lr_decay_period == 0:\n",
        "          print('-->Learning Rate before decay: ', lr)\n",
        "          lr_decay = LR_DECAY\n",
        "          # The following two lines is the core algorithm\n",
        "          if(lr>0.002):\n",
        "            lr*=lr_decay\n",
        "          optimizer = torch.optim.SGD(net.parameters(), lr=lr, momentum=momentum, weight_decay=weight_decay)\n",
        "          print('***lr_decay: ', LR_DECAY)\n",
        "          print('***lr after decay: ', lr)\n",
        "          f.write('lr decays \\n')\n",
        "\n",
        "\n",
        "        train_loss = 0.0\n",
        "        train_acc = 0.0\n",
        "        net.train()\n",
        "        epoch_start_time = datetime.datetime.now()\n",
        "        for i, train_data in enumerate(train_valid_loader):\n",
        "            inputs, labels = train_data\n",
        "            inputs, labels = inputs.cuda(), labels.cuda()\n",
        "            optimizer.zero_grad()\n",
        "\n",
        "            # forward + backward\n",
        "            predicted_output = net(inputs)\n",
        "            fit = loss(predicted_output, labels)\n",
        "            fit.backward()\n",
        "            # fit.sum().backward()\n",
        "            optimizer.step()\n",
        "            train_loss += fit.item()\n",
        "            _, pred = predicted_output.max(1)\n",
        "            num_correct = (pred == labels).sum().item()\n",
        "            acc = num_correct / inputs.shape[0]\n",
        "            train_acc += acc\n",
        "        train_loss = train_loss / len(train_valid_loader)\n",
        "        train_loss_history.append(train_loss)\n",
        "        train_acc = train_acc / len(train_valid_loader)\n",
        "        train_acc_history.append(train_acc)\n",
        "        test_loss = 0.0\n",
        "        test_acc = 0.0\n",
        "\n",
        "        net.eval()\n",
        "        for j, data in enumerate(test_loader):\n",
        "            with torch.no_grad():\n",
        "                images, labels = data\n",
        "                images = images.cuda()\n",
        "                labels = labels.cuda()\n",
        "                predicted_output = net(images)\n",
        "                fit = loss(predicted_output, labels)\n",
        "                test_loss += fit.item()\n",
        "                _, pred = predicted_output.max(1)\n",
        "                num_correct = (pred == labels).sum().item()\n",
        "                acc = num_correct / images.shape[0]\n",
        "                test_acc += acc\n",
        "        test_loss = test_loss / len(test_loader)\n",
        "        test_loss_history.append(test_loss)\n",
        "        test_acc = test_acc / len(test_loader)\n",
        "        test_acc_history.append(test_acc)\n",
        "        epoch_end_time = datetime.datetime.now()\n",
        "\n",
        "        line_new = \"{:>5} {:>15} {:>15} {:>15} {:>15} {:>10} {:>20}\".format(\n",
        "            epoch,\n",
        "            round(train_loss, 5),\n",
        "            round(test_loss, 5),\n",
        "            round(train_acc, 5),\n",
        "            round(test_acc, 5),\n",
        "            round(lr, 8),\n",
        "            str(epoch_end_time - epoch_start_time))\n",
        "        print(line_new)\n",
        "\n",
        "        # print('Epoch %s, Train loss %.6f, Test loss %.6f, Train acc %.6f, Test acc %.6f, Running time %s' % (\n",
        "        # epoch, train_loss, test_loss, train_acc, test_acc, epoch_end_time - epoch_start_time))\n",
        "        f.write('Epoch %s, Train loss %.6f, Test loss %.6f, Train acc %.6f, Test acc %.6f, Running time %s' % (\n",
        "        epoch, train_loss, test_loss, train_acc, test_acc, epoch_end_time - epoch_start_time) + '\\n')\n",
        "        # save the best model\n",
        "        if test_acc > best_test_acc:\n",
        "            best_test_acc = test_acc\n",
        "            torch.save(net.state_dict(), model_path)\n",
        "\n",
        "    print('Finished trainning, end time:', epoch_end_time, 'Total running time,', epoch_end_time - start_time)\n",
        "    f.write('Finished trainning, end time:' + str(epoch_end_time) + 'Total running time,' + str(\n",
        "        epoch_end_time - start_time) + '\\n')\n",
        "\n",
        "    # count the number of trainable parametes\n",
        "    print(sum(p.numel() for p in net.parameters() if p.requires_grad))\n",
        "    f.write('The number of trainable parametes:' + str(sum(p.numel() for p in net.parameters() if p.requires_grad)) + '\\n')\n",
        "\n",
        "    plt.figure()\n",
        "    plt.plot(range(epoch_num), train_loss_history, '-', linewidth=3, label='Train error')\n",
        "    plt.plot(range(epoch_num), test_loss_history, '-', linewidth=3, label='Test error')\n",
        "    plt.xlabel('epoch')\n",
        "    plt.ylabel('loss')\n",
        "    plt.grid(True)\n",
        "    plt.legend()\n",
        "    plt.savefig('Train_With_Test_Log/' + str(start_time) + '_loss_history.png')\n",
        "\n",
        "    plt.figure()\n",
        "    plt.plot(range(epoch_num), train_acc_history, '-', linewidth=3, label='Train accuracy')\n",
        "    plt.plot(range(epoch_num), test_acc_history, '-', linewidth=3, label='Test accuracy')\n",
        "    plt.xlabel('epoch')\n",
        "    plt.ylabel('accuracy')\n",
        "    plt.grid(True)\n",
        "    plt.legend()\n",
        "    plt.savefig('Train_With_Test_Log/' + str(start_time) + '_acc_history.png')"
      ],
      "metadata": {
        "id": "HWrxraMOuGYf"
      },
      "execution_count": 89,
      "outputs": []
    },
    {
      "cell_type": "markdown",
      "source": [
        "# **Step 8: Execution**\n",
        "\n",
        "\n",
        "*   Fine Tunning Hyper Parameters\n",
        "*   Train the ResNet model and Classifying the Test Data\n"
      ],
      "metadata": {
        "id": "D4KPU0IR1p3y"
      }
    },
    {
      "cell_type": "code",
      "source": [
        "# Train the ResNet model and Classifying the Test Data\n",
        "net_for_train_with_test = project_customized_model().cuda()\n",
        "summary(net_for_train_with_test, (3, 32, 32))\n",
        "train_with_test(net_for_train_with_test,\n",
        "                train_valid_loader, \n",
        "                test_loader, \n",
        "                BATCH_SIZE,\n",
        "                CHANNEL,\n",
        "                EPOCH_NUM, \n",
        "                LR,\n",
        "                LR_DECAY, \n",
        "                WEIGHT_DECAY, \n",
        "                LR_DECAY_PERIOD,\n",
        "                MOMENTUM)"
      ],
      "metadata": {
        "colab": {
          "base_uri": "https://localhost:8080/",
          "height": 1000
        },
        "id": "wESN9R3w2xvh",
        "outputId": "e035abf0-864a-4838-f11b-e82f7d38ddbb"
      },
      "execution_count": 90,
      "outputs": [
        {
          "output_type": "stream",
          "name": "stdout",
          "text": [
            "----------------------------------------------------------------\n",
            "        Layer (type)               Output Shape         Param #\n",
            "================================================================\n",
            "            Conv2d-1           [-1, 42, 32, 32]           1,134\n",
            "       BatchNorm2d-2           [-1, 42, 32, 32]              84\n",
            "            Conv2d-3           [-1, 42, 32, 32]          15,876\n",
            "       BatchNorm2d-4           [-1, 42, 32, 32]              84\n",
            "            Conv2d-5           [-1, 42, 32, 32]          15,876\n",
            "       BatchNorm2d-6           [-1, 42, 32, 32]              84\n",
            "        BasicBlock-7           [-1, 42, 32, 32]               0\n",
            "            Conv2d-8           [-1, 42, 32, 32]          15,876\n",
            "       BatchNorm2d-9           [-1, 42, 32, 32]              84\n",
            "           Conv2d-10           [-1, 42, 32, 32]          15,876\n",
            "      BatchNorm2d-11           [-1, 42, 32, 32]              84\n",
            "       BasicBlock-12           [-1, 42, 32, 32]               0\n",
            "           Conv2d-13           [-1, 84, 16, 16]          31,752\n",
            "      BatchNorm2d-14           [-1, 84, 16, 16]             168\n",
            "           Conv2d-15           [-1, 84, 16, 16]          63,504\n",
            "      BatchNorm2d-16           [-1, 84, 16, 16]             168\n",
            "           Conv2d-17           [-1, 84, 16, 16]           3,528\n",
            "      BatchNorm2d-18           [-1, 84, 16, 16]             168\n",
            "       BasicBlock-19           [-1, 84, 16, 16]               0\n",
            "           Conv2d-20           [-1, 84, 16, 16]          63,504\n",
            "      BatchNorm2d-21           [-1, 84, 16, 16]             168\n",
            "           Conv2d-22           [-1, 84, 16, 16]          63,504\n",
            "      BatchNorm2d-23           [-1, 84, 16, 16]             168\n",
            "       BasicBlock-24           [-1, 84, 16, 16]               0\n",
            "           Conv2d-25            [-1, 168, 8, 8]         127,008\n",
            "      BatchNorm2d-26            [-1, 168, 8, 8]             336\n",
            "           Conv2d-27            [-1, 168, 8, 8]         254,016\n",
            "      BatchNorm2d-28            [-1, 168, 8, 8]             336\n",
            "           Conv2d-29            [-1, 168, 8, 8]          14,112\n",
            "      BatchNorm2d-30            [-1, 168, 8, 8]             336\n",
            "       BasicBlock-31            [-1, 168, 8, 8]               0\n",
            "           Conv2d-32            [-1, 168, 8, 8]         254,016\n",
            "      BatchNorm2d-33            [-1, 168, 8, 8]             336\n",
            "           Conv2d-34            [-1, 168, 8, 8]         254,016\n",
            "      BatchNorm2d-35            [-1, 168, 8, 8]             336\n",
            "       BasicBlock-36            [-1, 168, 8, 8]               0\n",
            "           Conv2d-37            [-1, 336, 4, 4]         508,032\n",
            "      BatchNorm2d-38            [-1, 336, 4, 4]             672\n",
            "           Conv2d-39            [-1, 336, 4, 4]       1,016,064\n",
            "      BatchNorm2d-40            [-1, 336, 4, 4]             672\n",
            "           Conv2d-41            [-1, 336, 4, 4]          56,448\n",
            "      BatchNorm2d-42            [-1, 336, 4, 4]             672\n",
            "       BasicBlock-43            [-1, 336, 4, 4]               0\n",
            "           Conv2d-44            [-1, 336, 4, 4]       1,016,064\n",
            "      BatchNorm2d-45            [-1, 336, 4, 4]             672\n",
            "           Conv2d-46            [-1, 336, 4, 4]       1,016,064\n",
            "      BatchNorm2d-47            [-1, 336, 4, 4]             672\n",
            "       BasicBlock-48            [-1, 336, 4, 4]               0\n",
            "           Linear-49                   [-1, 10]           3,370\n",
            "================================================================\n",
            "Total params: 4,815,940\n",
            "Trainable params: 4,815,940\n",
            "Non-trainable params: 0\n",
            "----------------------------------------------------------------\n",
            "Input size (MB): 0.01\n",
            "Forward/backward pass size (MB): 7.38\n",
            "Params size (MB): 18.37\n",
            "Estimated Total Size (MB): 25.77\n",
            "----------------------------------------------------------------\n",
            "Start trainning, time:  2023-04-12 18:50:56.049371\n",
            "Total #Params:  4815940\n",
            "-----------------------------------------------------------------------------------------------------\n",
            "Epoch      Train loss       Test loss  Train accuracy   Test accuracy         lr         Running time\n",
            "#####################################################################################################\n",
            "    0         1.45413         1.13282         0.46561         0.58703       0.01       0:00:33.270627\n",
            "    1         0.96256         0.95882         0.65645         0.67791       0.01       0:00:31.267641\n",
            "-->Learning Rate before decay:  0.01\n",
            "***lr_decay:  0.001\n",
            "***lr after decay:  0.009704455335485081\n",
            "    2         0.73526         0.73925         0.74068         0.74743 0.00970446       0:00:32.581839\n",
            "    3         0.62202         0.59538         0.78249         0.79974 0.00970446       0:00:31.297864\n",
            "-->Learning Rate before decay:  0.009704455335485081\n",
            "***lr_decay:  0.001\n",
            "***lr after decay:  0.009417645335842486\n",
            "    4         0.54692         0.67696         0.81055         0.78076 0.00941765       0:00:32.055622\n",
            "    5         0.48981         0.55962         0.82877         0.81042 0.00941765       0:00:31.645199\n",
            "-->Learning Rate before decay:  0.009417645335842486\n",
            "***lr_decay:  0.001\n",
            "***lr after decay:  0.009139311852712282\n",
            "    6         0.44424         0.55882         0.84657         0.81438 0.00913931       0:00:30.880371\n",
            "    7         0.41518         0.49089         0.85646         0.83564 0.00913931       0:00:31.865088\n",
            "-->Learning Rate before decay:  0.009139311852712282\n",
            "***lr_decay:  0.001\n",
            "***lr after decay:  0.008869204367171575\n",
            "    8         0.38009         0.56032         0.86914         0.81972  0.0088692       0:00:30.499985\n",
            "    9         0.36119          0.4437         0.87591         0.85443  0.0088692       0:00:30.325184\n",
            "-->Learning Rate before decay:  0.008869204367171575\n",
            "***lr_decay:  0.001\n",
            "***lr after decay:  0.008607079764250578\n",
            "   10          0.3327           0.454         0.88316         0.85473 0.00860708       0:00:31.829726\n",
            "   11         0.31722          0.5134         0.88883         0.83722 0.00860708       0:00:30.823004\n",
            "-->Learning Rate before decay:  0.008607079764250578\n",
            "***lr_decay:  0.001\n",
            "***lr after decay:  0.00835270211411272\n",
            "   12         0.29744         0.45085          0.8973         0.85552  0.0083527       0:00:30.593976\n",
            "   13         0.28397          0.3798         0.90167         0.87223  0.0083527       0:00:31.699199\n",
            "-->Learning Rate before decay:  0.00835270211411272\n",
            "***lr_decay:  0.001\n",
            "***lr after decay:  0.00810584245970187\n",
            "   14         0.26751          0.3956         0.90738         0.87006 0.00810584       0:00:30.341491\n",
            "   15          0.2554         0.42499         0.91106         0.86432 0.00810584       0:00:30.655007\n",
            "-->Learning Rate before decay:  0.00810584245970187\n",
            "***lr_decay:  0.001\n",
            "***lr after decay:  0.007866278610665533\n",
            "   16         0.24308         0.40323         0.91438         0.87035 0.00786628       0:00:31.174137\n"
          ]
        },
        {
          "output_type": "stream",
          "name": "stderr",
          "text": [
            "Exception ignored in: <function _MultiProcessingDataLoaderIter.__del__ at 0x7f38cb6a63a0>\n",
            "Traceback (most recent call last):\n",
            "  File \"/usr/local/lib/python3.9/dist-packages/torch/utils/data/dataloader.py\", line 1479, in __del__\n",
            "    self._shutdown_workers()\n",
            "  File \"/usr/local/lib/python3.9/dist-packages/torch/utils/data/dataloader.py\", line 1462, in _shutdown_workers\n",
            "    if w.is_alive():\n",
            "Exception ignored in: <function _MultiProcessingDataLoaderIter.__del__ at 0x7f38cb6a63a0>  File \"/usr/lib/python3.9/multiprocessing/process.py\", line 160, in is_alive\n",
            "\n",
            "    Traceback (most recent call last):\n",
            "  File \"/usr/local/lib/python3.9/dist-packages/torch/utils/data/dataloader.py\", line 1479, in __del__\n",
            "    self._shutdown_workers()\n",
            "  File \"/usr/local/lib/python3.9/dist-packages/torch/utils/data/dataloader.py\", line 1462, in _shutdown_workers\n",
            "    if w.is_alive():\n",
            "assert self._parent_pid == os.getpid(), 'can only test a child process'  File \"/usr/lib/python3.9/multiprocessing/process.py\", line 160, in is_alive\n",
            "\n",
            "    AssertionErrorassert self._parent_pid == os.getpid(), 'can only test a child process': can only test a child process\n",
            "\n",
            "AssertionError: can only test a child process\n",
            "Exception ignored in: <function _MultiProcessingDataLoaderIter.__del__ at 0x7f38cb6a63a0>\n",
            "Traceback (most recent call last):\n",
            "  File \"/usr/local/lib/python3.9/dist-packages/torch/utils/data/dataloader.py\", line 1479, in __del__\n",
            "    self._shutdown_workers()\n",
            "  File \"/usr/local/lib/python3.9/dist-packages/torch/utils/data/dataloader.py\", line 1462, in _shutdown_workers\n",
            "    if w.is_alive():\n",
            "  File \"/usr/lib/python3.9/multiprocessing/process.py\", line 160, in is_alive\n",
            "    assert self._parent_pid == os.getpid(), 'can only test a child process'\n",
            "AssertionError: can only test a child process\n"
          ]
        },
        {
          "output_type": "stream",
          "name": "stdout",
          "text": [
            "   17         0.23946         0.43951         0.91645         0.85799 0.00786628       0:00:31.046250\n",
            "-->Learning Rate before decay:  0.007866278610665533\n",
            "***lr_decay:  0.001\n",
            "***lr after decay:  0.00763379494336853\n",
            "   18         0.22053          0.3565         0.92343          0.8841 0.00763379       0:00:31.048304\n",
            "   19         0.21325         0.38375         0.92538         0.88074 0.00763379       0:00:30.720362\n",
            "-->Learning Rate before decay:  0.00763379494336853\n",
            "***lr_decay:  0.001\n",
            "***lr after decay:  0.007408182206817177\n",
            "   20         0.20003         0.37228         0.93041         0.88074 0.00740818       0:00:30.251334\n",
            "   21         0.19445         0.41114         0.93173         0.87876 0.00740818       0:00:30.423431\n",
            "-->Learning Rate before decay:  0.007408182206817177\n",
            "***lr_decay:  0.001\n",
            "***lr after decay:  0.00718923733431926\n"
          ]
        },
        {
          "output_type": "stream",
          "name": "stderr",
          "text": [
            "Exception ignored in: <function _MultiProcessingDataLoaderIter.__del__ at 0x7f38cb6a63a0>\n",
            "Traceback (most recent call last):\n",
            "  File \"/usr/local/lib/python3.9/dist-packages/torch/utils/data/dataloader.py\", line 1479, in __del__\n",
            "    self._shutdown_workers()\n",
            "  File \"/usr/local/lib/python3.9/dist-packages/torch/utils/data/dataloader.py\", line 1462, in _shutdown_workers\n",
            "    if w.is_alive():\n",
            "  File \"/usr/lib/python3.9/multiprocessing/process.py\", line 160, in is_alive\n",
            "    assert self._parent_pid == os.getpid(), 'can only test a child process'\n",
            "AssertionError: Exception ignored in: <function _MultiProcessingDataLoaderIter.__del__ at 0x7f38cb6a63a0>\n",
            "Traceback (most recent call last):\n",
            "  File \"/usr/local/lib/python3.9/dist-packages/torch/utils/data/dataloader.py\", line 1479, in __del__\n",
            "can only test a child process\n",
            "    self._shutdown_workers()\n",
            "  File \"/usr/local/lib/python3.9/dist-packages/torch/utils/data/dataloader.py\", line 1462, in _shutdown_workers\n",
            "    if w.is_alive():Exception ignored in: \n",
            "  File \"/usr/lib/python3.9/multiprocessing/process.py\", line 160, in is_alive\n",
            "    assert self._parent_pid == os.getpid(), 'can only test a child process'<function _MultiProcessingDataLoaderIter.__del__ at 0x7f38cb6a63a0>\n",
            "\n",
            "AssertionError: Traceback (most recent call last):\n",
            "can only test a child process\n",
            "  File \"/usr/local/lib/python3.9/dist-packages/torch/utils/data/dataloader.py\", line 1479, in __del__\n",
            "    self._shutdown_workers()\n",
            "  File \"/usr/local/lib/python3.9/dist-packages/torch/utils/data/dataloader.py\", line 1462, in _shutdown_workers\n",
            "    if w.is_alive():\n",
            "  File \"/usr/lib/python3.9/multiprocessing/process.py\", line 160, in is_alive\n",
            "    assert self._parent_pid == os.getpid(), 'can only test a child process'\n",
            "AssertionError: can only test a child process\n"
          ]
        },
        {
          "output_type": "stream",
          "name": "stdout",
          "text": [
            "   22         0.18451          0.3421         0.93694         0.88726 0.00718924       0:00:31.261722\n",
            "   23         0.18263         0.35324         0.93646         0.89171 0.00718924       0:00:30.359192\n",
            "-->Learning Rate before decay:  0.00718923733431926\n",
            "***lr_decay:  0.001\n",
            "***lr after decay:  0.006976763260710309\n"
          ]
        },
        {
          "output_type": "stream",
          "name": "stderr",
          "text": [
            "Exception ignored in: <function _MultiProcessingDataLoaderIter.__del__ at 0x7f38cb6a63a0>\n",
            "Traceback (most recent call last):\n",
            "  File \"/usr/local/lib/python3.9/dist-packages/torch/utils/data/dataloader.py\", line 1479, in __del__\n",
            "    self._shutdown_workers()\n",
            "  File \"/usr/local/lib/python3.9/dist-packages/torch/utils/data/dataloader.py\", line 1462, in _shutdown_workers\n",
            "    if w.is_alive():\n",
            "  File \"/usr/lib/python3.9/multiprocessing/process.py\", line 160, in is_alive\n",
            "    assert self._parent_pid == os.getpid(), 'can only test a child process'\n",
            "AssertionError: can only test a child process\n"
          ]
        },
        {
          "output_type": "stream",
          "name": "stdout",
          "text": [
            "   24         0.16823         0.33228         0.94303           0.893 0.00697676       0:00:31.096313\n"
          ]
        },
        {
          "output_type": "stream",
          "name": "stderr",
          "text": [
            "Exception ignored in: <function _MultiProcessingDataLoaderIter.__del__ at 0x7f38cb6a63a0>\n",
            "Traceback (most recent call last):\n",
            "  File \"/usr/local/lib/python3.9/dist-packages/torch/utils/data/dataloader.py\", line 1479, in __del__\n",
            "    self._shutdown_workers()\n",
            "  File \"/usr/local/lib/python3.9/dist-packages/torch/utils/data/dataloader.py\", line 1462, in _shutdown_workers\n",
            "    if w.is_alive():\n",
            "  File \"/usr/lib/python3.9/multiprocessing/process.py\", line 160, in is_alive\n",
            "    assert self._parent_pid == os.getpid(), 'can only test a child process'\n",
            "AssertionError: can only test a child process\n",
            "Exception ignored in: <function _MultiProcessingDataLoaderIter.__del__ at 0x7f38cb6a63a0>\n",
            "Traceback (most recent call last):\n",
            "  File \"/usr/local/lib/python3.9/dist-packages/torch/utils/data/dataloader.py\", line 1479, in __del__\n",
            "Exception ignored in:     <function _MultiProcessingDataLoaderIter.__del__ at 0x7f38cb6a63a0>self._shutdown_workers()\n",
            "\n",
            "Traceback (most recent call last):\n",
            "  File \"/usr/local/lib/python3.9/dist-packages/torch/utils/data/dataloader.py\", line 1462, in _shutdown_workers\n",
            "  File \"/usr/local/lib/python3.9/dist-packages/torch/utils/data/dataloader.py\", line 1479, in __del__\n",
            "        if w.is_alive():self._shutdown_workers()\n",
            "\n",
            "  File \"/usr/lib/python3.9/multiprocessing/process.py\", line 160, in is_alive\n",
            "  File \"/usr/local/lib/python3.9/dist-packages/torch/utils/data/dataloader.py\", line 1462, in _shutdown_workers\n",
            "    assert self._parent_pid == os.getpid(), 'can only test a child process'    if w.is_alive():\n",
            "\n",
            "AssertionError  File \"/usr/lib/python3.9/multiprocessing/process.py\", line 160, in is_alive\n",
            ":     can only test a child processassert self._parent_pid == os.getpid(), 'can only test a child process'\n",
            "\n",
            "AssertionError: can only test a child process\n"
          ]
        },
        {
          "output_type": "stream",
          "name": "stdout",
          "text": [
            "   25         0.16836         0.34172         0.94087         0.89221 0.00697676       0:00:31.486905\n",
            "-->Learning Rate before decay:  0.006976763260710309\n",
            "***lr_decay:  0.001\n",
            "***lr after decay:  0.006770568744981645\n"
          ]
        },
        {
          "output_type": "stream",
          "name": "stderr",
          "text": [
            "Exception ignored in: <function _MultiProcessingDataLoaderIter.__del__ at 0x7f38cb6a63a0>\n",
            "Traceback (most recent call last):\n",
            "  File \"/usr/local/lib/python3.9/dist-packages/torch/utils/data/dataloader.py\", line 1479, in __del__\n",
            "    self._shutdown_workers()\n",
            "  File \"/usr/local/lib/python3.9/dist-packages/torch/utils/data/dataloader.py\", line 1462, in _shutdown_workers\n",
            "    if w.is_alive():\n",
            "  File \"/usr/lib/python3.9/multiprocessing/process.py\", line 160, in is_alive\n",
            "    assert self._parent_pid == os.getpid(), 'can only test a child process'\n",
            "AssertionError: can only test a child process\n",
            "Exception ignored in: <function _MultiProcessingDataLoaderIter.__del__ at 0x7f38cb6a63a0>\n",
            "Traceback (most recent call last):\n",
            "  File \"/usr/local/lib/python3.9/dist-packages/torch/utils/data/dataloader.py\", line 1479, in __del__\n",
            "    self._shutdown_workers()\n",
            "  File \"/usr/local/lib/python3.9/dist-packages/torch/utils/data/dataloader.py\", line 1462, in _shutdown_workers\n",
            "    if w.is_alive():\n",
            "  File \"/usr/lib/python3.9/multiprocessing/process.py\", line 160, in is_alive\n",
            "    assert self._parent_pid == os.getpid(), 'can only test a child process'\n",
            "AssertionError: can only test a child process\n",
            "Exception ignored in: <function _MultiProcessingDataLoaderIter.__del__ at 0x7f38cb6a63a0>\n",
            "Traceback (most recent call last):\n",
            "  File \"/usr/local/lib/python3.9/dist-packages/torch/utils/data/dataloader.py\", line 1479, in __del__\n",
            "    self._shutdown_workers()\n",
            "  File \"/usr/local/lib/python3.9/dist-packages/torch/utils/data/dataloader.py\", line 1462, in _shutdown_workers\n",
            "    if w.is_alive():\n",
            "  File \"/usr/lib/python3.9/multiprocessing/process.py\", line 160, in is_alive\n",
            "    assert self._parent_pid == os.getpid(), 'can only test a child process'\n",
            "AssertionError: can only test a child process\n"
          ]
        },
        {
          "output_type": "stream",
          "name": "stdout",
          "text": [
            "   26         0.16033         0.31971         0.94415         0.89824 0.00677057       0:00:31.110219\n"
          ]
        },
        {
          "output_type": "stream",
          "name": "stderr",
          "text": [
            "Exception ignored in: <function _MultiProcessingDataLoaderIter.__del__ at 0x7f38cb6a63a0>\n",
            "Traceback (most recent call last):\n",
            "  File \"/usr/local/lib/python3.9/dist-packages/torch/utils/data/dataloader.py\", line 1479, in __del__\n",
            "    self._shutdown_workers()\n",
            "  File \"/usr/local/lib/python3.9/dist-packages/torch/utils/data/dataloader.py\", line 1462, in _shutdown_workers\n",
            "Exception ignored in: <function _MultiProcessingDataLoaderIter.__del__ at 0x7f38cb6a63a0>    \n",
            "if w.is_alive():Traceback (most recent call last):\n",
            "\n",
            "  File \"/usr/lib/python3.9/multiprocessing/process.py\", line 160, in is_alive\n",
            "    assert self._parent_pid == os.getpid(), 'can only test a child process'\n",
            "AssertionError: \n",
            "can only test a child process  File \"/usr/local/lib/python3.9/dist-packages/torch/utils/data/dataloader.py\", line 1479, in __del__\n",
            "    self._shutdown_workers()\n",
            "  File \"/usr/local/lib/python3.9/dist-packages/torch/utils/data/dataloader.py\", line 1462, in _shutdown_workers\n",
            "    if w.is_alive():\n",
            "  File \"/usr/lib/python3.9/multiprocessing/process.py\", line 160, in is_alive\n",
            "Exception ignored in: <function _MultiProcessingDataLoaderIter.__del__ at 0x7f38cb6a63a0>    assert self._parent_pid == os.getpid(), 'can only test a child process'\n",
            "Traceback (most recent call last):\n",
            "  File \"/usr/local/lib/python3.9/dist-packages/torch/utils/data/dataloader.py\", line 1479, in __del__\n",
            "\n",
            "    AssertionErrorself._shutdown_workers(): \n",
            "can only test a child process\n",
            "  File \"/usr/local/lib/python3.9/dist-packages/torch/utils/data/dataloader.py\", line 1462, in _shutdown_workers\n",
            "    if w.is_alive():\n",
            "  File \"/usr/lib/python3.9/multiprocessing/process.py\", line 160, in is_alive\n",
            "    assert self._parent_pid == os.getpid(), 'can only test a child process'\n",
            "AssertionError: can only test a child process\n"
          ]
        },
        {
          "output_type": "stream",
          "name": "stdout",
          "text": [
            "   27          0.1529         0.36846         0.94709         0.88459 0.00677057       0:00:31.905197\n",
            "-->Learning Rate before decay:  0.006770568744981645\n",
            "***lr_decay:  0.001\n",
            "***lr after decay:  0.006570468198150566\n"
          ]
        },
        {
          "output_type": "stream",
          "name": "stderr",
          "text": [
            "Exception ignored in: <function _MultiProcessingDataLoaderIter.__del__ at 0x7f38cb6a63a0>\n",
            "Traceback (most recent call last):\n",
            "Exception ignored in:   File \"/usr/local/lib/python3.9/dist-packages/torch/utils/data/dataloader.py\", line 1479, in __del__\n",
            "<function _MultiProcessingDataLoaderIter.__del__ at 0x7f38cb6a63a0>    self._shutdown_workers()\n",
            "Traceback (most recent call last):\n",
            "\n",
            "  File \"/usr/local/lib/python3.9/dist-packages/torch/utils/data/dataloader.py\", line 1462, in _shutdown_workers\n",
            "  File \"/usr/local/lib/python3.9/dist-packages/torch/utils/data/dataloader.py\", line 1479, in __del__\n",
            "    self._shutdown_workers()    if w.is_alive():\n",
            "  File \"/usr/lib/python3.9/multiprocessing/process.py\", line 160, in is_alive\n",
            "    \n",
            "  File \"/usr/local/lib/python3.9/dist-packages/torch/utils/data/dataloader.py\", line 1462, in _shutdown_workers\n",
            "assert self._parent_pid == os.getpid(), 'can only test a child process'\n",
            "    Exception ignored in: if w.is_alive():\n",
            "AssertionError:   File \"/usr/lib/python3.9/multiprocessing/process.py\", line 160, in is_alive\n",
            "<function _MultiProcessingDataLoaderIter.__del__ at 0x7f38cb6a63a0>can only test a child process\n",
            "Traceback (most recent call last):\n",
            "  File \"/usr/local/lib/python3.9/dist-packages/torch/utils/data/dataloader.py\", line 1479, in __del__\n",
            "    \n",
            "assert self._parent_pid == os.getpid(), 'can only test a child process'    \n",
            "self._shutdown_workers()AssertionError\n",
            ": can only test a child process\n",
            "  File \"/usr/local/lib/python3.9/dist-packages/torch/utils/data/dataloader.py\", line 1462, in _shutdown_workers\n",
            "    if w.is_alive():\n",
            "  File \"/usr/lib/python3.9/multiprocessing/process.py\", line 160, in is_alive\n",
            "    assert self._parent_pid == os.getpid(), 'can only test a child process'\n",
            "AssertionError: can only test a child process\n"
          ]
        },
        {
          "output_type": "stream",
          "name": "stdout",
          "text": [
            "   28         0.14528         0.34924         0.94976         0.88825 0.00657047       0:00:30.723935\n"
          ]
        },
        {
          "output_type": "stream",
          "name": "stderr",
          "text": [
            "Exception ignored in: <function _MultiProcessingDataLoaderIter.__del__ at 0x7f38cb6a63a0>\n",
            "Traceback (most recent call last):\n",
            "  File \"/usr/local/lib/python3.9/dist-packages/torch/utils/data/dataloader.py\", line 1479, in __del__\n",
            "    self._shutdown_workers()\n",
            "  File \"/usr/local/lib/python3.9/dist-packages/torch/utils/data/dataloader.py\", line 1462, in _shutdown_workers\n",
            "    if w.is_alive():\n",
            "  File \"/usr/lib/python3.9/multiprocessing/process.py\", line 160, in is_alive\n",
            "    assert self._parent_pid == os.getpid(), 'can only test a child process'\n",
            "AssertionError: can only test a child process\n",
            "Exception ignored in: <function _MultiProcessingDataLoaderIter.__del__ at 0x7f38cb6a63a0>\n",
            "Traceback (most recent call last):\n",
            "  File \"/usr/local/lib/python3.9/dist-packages/torch/utils/data/dataloader.py\", line 1479, in __del__\n",
            "    self._shutdown_workers()\n",
            "  File \"/usr/local/lib/python3.9/dist-packages/torch/utils/data/dataloader.py\", line 1462, in _shutdown_workers\n",
            "    if w.is_alive():\n",
            "  File \"/usr/lib/python3.9/multiprocessing/process.py\", line 160, in is_alive\n",
            "    assert self._parent_pid == os.getpid(), 'can only test a child process'\n",
            "AssertionError: can only test a child process\n",
            "Exception ignored in: <function _MultiProcessingDataLoaderIter.__del__ at 0x7f38cb6a63a0>\n",
            "Traceback (most recent call last):\n",
            "  File \"/usr/local/lib/python3.9/dist-packages/torch/utils/data/dataloader.py\", line 1479, in __del__\n",
            "    self._shutdown_workers()\n",
            "  File \"/usr/local/lib/python3.9/dist-packages/torch/utils/data/dataloader.py\", line 1462, in _shutdown_workers\n",
            "    if w.is_alive():\n",
            "  File \"/usr/lib/python3.9/multiprocessing/process.py\", line 160, in is_alive\n",
            "    assert self._parent_pid == os.getpid(), 'can only test a child process'\n",
            "AssertionError: can only test a child process\n"
          ]
        },
        {
          "output_type": "stream",
          "name": "stdout",
          "text": [
            "   29         0.14465         0.33306         0.94913         0.89438 0.00657047       0:00:30.607934\n",
            "Finished trainning, end time: 2023-04-12 19:06:31.815385 Total running time, 0:15:35.766014\n",
            "4815940\n"
          ]
        },
        {
          "output_type": "display_data",
          "data": {
            "text/plain": [
              "<Figure size 640x480 with 1 Axes>"
            ],
            "image/png": "[encoded data removed]"
          },
          "metadata": {}
        },
        {
          "output_type": "display_data",
          "data": {
            "text/plain": [
              "<Figure size 640x480 with 1 Axes>"
            ],
            "image/png": "[encoded data removed]"
          },
          "metadata": {}
        }
      ]
    },
    {
      "cell_type": "markdown",
      "source": [
        "# **Step 9: Figure out the Best Performance**\n",
        "\n",
        "\n",
        "*   Produce the Test Accuracy result based on this model\n",
        "*   Get the top test accuracy model through model .pt file"
      ],
      "metadata": {
        "id": "ccnxPWz4C3jI"
      }
    },
    {
      "cell_type": "code",
      "source": [
        "#test the best test model acc\n",
        "# start_time = \"2023-04-07 21:11:59.803520\"\n",
        "# f = open(\"Train_With_Test_Log/\"+str(start_time)+\".txt\",'a')\n",
        "# device = torch.device('cuda:0' if torch.cuda.is_available() else 'cpu')\n",
        "# model = project_customized_model().to(device)\n",
        "# model_path = 'Train_With_Test_Model/' + str(start_time) + '_model.pt'\n",
        "# model.load_state_dict(torch.load(model_path, map_location=device), strict=False)\n",
        "# loss = nn.CrossEntropyLoss()\n",
        "# test_loss = 0.0\n",
        "# test_acc = 0.0\n",
        "# model.eval()\n",
        "# for j, data in enumerate(test_loader):\n",
        "#     with torch.no_grad():\n",
        "#         images, labels = data\n",
        "#         images = images.cuda()\n",
        "#         labels = labels.cuda()\n",
        "#         predicted_output = model(images)\n",
        "#         fit = loss(predicted_output,labels)\n",
        "#         test_loss += fit.item()\n",
        "#         _, pred = predicted_output.max(1)\n",
        "#         num_correct = (pred==labels).sum().item()\n",
        "#         acc = num_correct / images.shape[0]\n",
        "#         test_acc += acc\n",
        "# test_loss = test_loss / len(test_loader)\n",
        "# test_acc = test_acc / len(test_loader)\n",
        "# epoch_end_time = datetime.datetime.now()\n",
        "# # print('For the best model, Test loss %.6f, Test acc %.6f'%(test_loss, test_acc))\n",
        "# print(\"-------------------------------------------------\")\n",
        "# line_new = \"{:>15} {:>15} {:>15}\".format(\n",
        "#         \"Best Model Saved\", \"Test loss\", \"Test acc\")\n",
        "# print(line_new)\n",
        "# print(\"#################################################\")\n",
        "# line_new = \"{:>15} {:>15} {:>15}\".format(\n",
        "#     \"Best model\",\n",
        "#     round(test_loss, 5),\n",
        "#     round(test_acc, 5))\n",
        "# print(line_new)\n",
        "# print(\"-------------------------------------------------\")\n",
        "# print(\"\\n\")\n",
        "# f.write('For the best model, Test loss %.6f, Test acc %.6f'%(test_loss, test_acc)+'\\n')\n",
        "\n",
        "# # test the output of the model\n",
        "# predicted_output = model(images)\n",
        "# print(torch.max(predicted_output, 1))\n",
        "# f.write(str(torch.max(predicted_output, 1))+'\\n')\n",
        "# fit = loss(predicted_output, labels)\n",
        "# print(labels)\n",
        "# f.write(str(labels)+'\\n')\n",
        "# print(fit)\n",
        "# f.write(str(fit)+'\\n')\n",
        "# f.close()\n",
        "\n",
        "# plt.figure(figsize=(10,10))\n",
        "# for idx in np.arange(0,16):\n",
        "#     plt.subplot(4,4,idx+1)\n",
        "#     plt.imshow(images[idx].cpu()[0,:,:].squeeze(), cmap=plt.cm.gray)\n",
        "# plt.savefig('Train_With_Test_Log/'+str(start_time)+'_test_instances.png')\n"
      ],
      "metadata": {
        "id": "5nTHCpRJDJ3A"
      },
      "execution_count": 91,
      "outputs": []
    }
  ]
}