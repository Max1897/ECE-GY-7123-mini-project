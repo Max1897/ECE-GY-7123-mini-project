{
  "nbformat": 4,
  "nbformat_minor": 0,
  "metadata": {
    "colab": {
      "provenance": []
    },
    "kernelspec": {
      "name": "python3",
      "display_name": "Python 3"
    },
    "language_info": {
      "name": "python"
    },
    "accelerator": "GPU",
    "gpuClass": "premium"
  },
  "cells": [
    {
      "cell_type": "markdown",
      "source": [
        "## **Step 1: Import packages**"
      ],
      "metadata": {
        "id": "YZc5DUfZBVIc"
      }
    },
    {
      "cell_type": "code",
      "source": [
        "import datetime\n",
        "import matplotlib.pyplot as plt\n",
        "import numpy as np\n",
        "import ssl\n",
        "import torch\n",
        "import torch.nn as nn\n",
        "import torch.nn.functional as F\n",
        "\n",
        "from torchsummary import summary\n",
        "from torchvision import transforms\n",
        "from torchvision import datasets\n",
        "ssl._create_default_https_context = ssl._create_unverified_context"
      ],
      "metadata": {
        "id": "kU-WAyVoBgYc"
      },
      "execution_count": 37,
      "outputs": []
    },
    {
      "cell_type": "markdown",
      "source": [
        "## **Step 2: Set Up Hyper-Parameters for Fine Tuning:**\n",
        "\n",
        "\n",
        "1.   Training process for Train/Validation data\n",
        "2.   Train model and generate test data accuracy after fine tuning"
      ],
      "metadata": {
        "id": "_Vblx7HyD6Fo"
      }
    },
    {
      "cell_type": "code",
      "source": [
        "# Batch size for each data iteration\n",
        "# Make a change from 128 to 32\n",
        "BATCH_SIZE = 128\n",
        "\n",
        "# The ratio of split the validation set out of the original training set\n",
        "VALID_RATIO = 0.1\n",
        "\n",
        "# Learning Rate\n",
        "LR = 0.1\n",
        "\n",
        "# Learning Rate Decay Period. For example, apply decay to learning rate every X epochs\n",
        "LR_DECAY_PERIOD = 2\n",
        "\n",
        "# High Speed Lerning Rate Decay. \n",
        "# For example, if the current lr is 0.1, the lr after decay is 0.5\n",
        "HIGH_SPEED_LR_DECAY = 0.7\n",
        "\n",
        "# Low Speed Lerning Rate Decay. \n",
        "# For example, if the current lr is 0.1, the lr after decay is 0.8\n",
        "LOW_SPEED_LR_DECAY = 0.85\n",
        "\n",
        "# ResNet's number of input channel\n",
        "CHANNEL = 25\n",
        "\n",
        "# Number of epoch\n",
        "EPOCH_NUM = 30\n",
        "\n",
        "# The following WEIGHT_DECAY and MOMENTUM and DAMPENING is for SGD Optimizer   \n",
        "# Weight Decay\n",
        "WEIGHT_DECAY = 0.001\n",
        "\n",
        "# Dampening\n",
        "DAMPENING = 0.05\n",
        "\n",
        "# Momentum\n",
        "MOMENTUM = 0.9"
      ],
      "metadata": {
        "id": "OW27X-5oGDCv"
      },
      "execution_count": 38,
      "outputs": []
    },
    {
      "cell_type": "markdown",
      "source": [
        "##  **Step 3: Extract and Optimize the RAW CIFAR-10 Data:**\n",
        "\n",
        "1.   Create folders for Model and Log data\n",
        "2.   Split 10% of the RAW train data as valid data\n",
        "3.   Customize the Transform process for train and test data\n",
        "4.   Generate the:\n",
        "    *   Train and Valid Data Iteration: 50,000 rows of data\n",
        "    *   Train Data Iteration:           45,000 rows of data\n",
        "    *   Valid Data Iteration:            5,000 rows of data\n",
        "    *   Test Data Iteration:            10,000 rows of data"
      ],
      "metadata": {
        "id": "AbMLtNChCTmW"
      }
    },
    {
      "cell_type": "code",
      "source": [
        "# Create folders for Model and Log data\n",
        "!mkdir -p ./Train_With_Test_Log ./Train_With_Test_Model ./Train_With_Valid_Log ./Train_With_Valid_Model"
      ],
      "metadata": {
        "id": "p-EWKww9C6IT"
      },
      "execution_count": 39,
      "outputs": []
    },
    {
      "cell_type": "code",
      "source": [
        "# Design the Transform process for train and test data\n",
        "def train_transform(x):\n",
        "    image_aug = transforms.Compose([transforms.RandomCrop(32, padding=4),\n",
        "                                    transforms.RandomHorizontalFlip(p=0.5),\n",
        "                                    transforms.ToTensor(),\n",
        "                                    transforms.Normalize((0.4914,0.4822,0.4465), \n",
        "                                                         (0.2023,0.1994,0.2010))])\n",
        "    x = image_aug(x)\n",
        "    return x\n",
        "\n",
        "# Customize the Transform process for train and test data\n",
        "def test_transform(x):\n",
        "    image_aug = transforms.Compose([transforms.ToTensor(), transforms.Normalize((0.4914,0.4822,0.4465), \n",
        "                                                                                (0.2023,0.1994,0.2010))])\n",
        "    x = image_aug(x)\n",
        "    return x\n"
      ],
      "metadata": {
        "id": "3TLPN04cDQ9n"
      },
      "execution_count": 40,
      "outputs": []
    },
    {
      "cell_type": "code",
      "source": [
        "# Download the RAW data                                \n",
        "train_valid_ds = datasets.CIFAR10('Data', \n",
        "                                  train=True, \n",
        "                                  download=True, \n",
        "                                  transform=train_transform)\n",
        "test_ds = datasets.CIFAR10('Data', \n",
        "                           train=False, \n",
        "                           download=True, \n",
        "                           transform=test_transform)"
      ],
      "metadata": {
        "colab": {
          "base_uri": "https://localhost:8080/"
        },
        "id": "THN4Tb18DYrQ",
        "outputId": "2f52435c-9ca1-49fb-8109-ab47d166a5d7"
      },
      "execution_count": 41,
      "outputs": [
        {
          "output_type": "stream",
          "name": "stdout",
          "text": [
            "Files already downloaded and verified\n",
            "Files already downloaded and verified\n"
          ]
        }
      ]
    },
    {
      "cell_type": "code",
      "source": [
        "# Split 10% of the RAW train data as valid data\n",
        "valid_ds_size = int(len(train_valid_ds) * VALID_RATIO)\n",
        "train_ds_size = len(train_valid_ds) - valid_ds_size\n",
        "\n",
        "# Split Train and Valid data\n",
        "train_ds, valid_ds = torch.utils.data.random_split(train_valid_ds, [train_ds_size, valid_ds_size]) \n"
      ],
      "metadata": {
        "id": "q6yuVl9EDj4Q"
      },
      "execution_count": 42,
      "outputs": []
    },
    {
      "cell_type": "markdown",
      "source": [
        "## **Step 4: Check Runtime's GPU Availability**\n"
      ],
      "metadata": {
        "id": "-rAxn1HCGNah"
      }
    },
    {
      "cell_type": "code",
      "source": [
        "train_on_gpu = torch.cuda.is_available()\n",
        "# check whether CUDA is available\n",
        "if not train_on_gpu:\n",
        "    print('CUDA is not available')\n",
        "else:\n",
        "    print('CUDA is available')\n",
        "    "
      ],
      "metadata": {
        "colab": {
          "base_uri": "https://localhost:8080/"
        },
        "id": "uEkb2gdSGZDu",
        "outputId": "9a70dafa-5094-4a9c-a1e8-63262e49481e"
      },
      "execution_count": 43,
      "outputs": [
        {
          "output_type": "stream",
          "name": "stdout",
          "text": [
            "CUDA is available\n"
          ]
        }
      ]
    },
    {
      "cell_type": "markdown",
      "source": [
        "## **Step 5: Generate Train/Validation/Test Data Loader**"
      ],
      "metadata": {
        "id": "G95PiwmhJ_Dt"
      }
    },
    {
      "cell_type": "code",
      "source": [
        "# Generate the:\n",
        "# 1) Train and Valid Data Loader: 50,000 rows of data\n",
        "# 2) Train Data Loader: 45,000 rows of data\n",
        "# 3) Valid Data Loader: 5,000 rows of data\n",
        "# 4) Test Data Loader: 10,000 rows of data\n",
        "\n",
        "# Train and Valid Data Loader: 50,000 rows of data\n",
        "train_valid_loader = torch.utils.data.DataLoader(train_valid_ds, batch_size=BATCH_SIZE, shuffle=True, num_workers=3)\n",
        "\n",
        "# Train Valid Data Loader (Removed the 5,000 row for Validation): 50,000 rows of data\n",
        "train_loader = torch.utils.data.DataLoader(train_ds, batch_size=BATCH_SIZE, shuffle=True, num_workers=3)\n",
        "\n",
        "# Valid Data Loader: 5,000 rows of data\n",
        "valid_loader = torch.utils.data.DataLoader(valid_ds, batch_size=BATCH_SIZE, shuffle=False, num_workers=3)\n",
        "\n",
        "# Test Data Loader: 10,000 rows of data\n",
        "test_loader = torch.utils.data.DataLoader(test_ds, batch_size=BATCH_SIZE, shuffle=False, num_workers=3)"
      ],
      "metadata": {
        "id": "x-iNZYjbKN9J"
      },
      "execution_count": 44,
      "outputs": []
    },
    {
      "cell_type": "markdown",
      "source": [
        "## **Step 6: Build the ResNet Model Architecture**"
      ],
      "metadata": {
        "id": "gwhFCuxPrcJQ"
      }
    },
    {
      "cell_type": "code",
      "source": [
        "# Build the Basic Block for ResNet Model\n",
        "class BasicBlock(nn.Module):\n",
        "\n",
        "    def __init__(self, in_planes, planes, stride=1):\n",
        "        super(BasicBlock, self).__init__()\n",
        "        self.conv1 = nn.Conv2d(\n",
        "            in_planes, planes, kernel_size=5, stride=stride, padding=2, bias=False)\n",
        "        self.bn1 = nn.BatchNorm2d(planes)\n",
        "        self.conv2 = nn.Conv2d(planes, planes, kernel_size=5,\n",
        "                               stride=1, padding=2, bias=False)\n",
        "        self.bn2 = nn.BatchNorm2d(planes)\n",
        "\n",
        "        self.shortcut = nn.Sequential()\n",
        "        if stride != 1 or in_planes != planes:\n",
        "            self.shortcut = nn.Sequential(\n",
        "                nn.Conv2d(in_planes, planes,\n",
        "                          kernel_size=1, stride=stride, bias=False),\n",
        "                nn.BatchNorm2d(planes)\n",
        "            )\n",
        "\n",
        "    def forward(self, x):\n",
        "        out = F.relu(self.bn1(self.conv1(x)))\n",
        "        out = self.bn2(self.conv2(out))\n",
        "        out += self.shortcut(x)\n",
        "        out = F.relu(out)\n",
        "        return out\n"
      ],
      "metadata": {
        "id": "5bUsz-K_r2Xb"
      },
      "execution_count": 45,
      "outputs": []
    },
    {
      "cell_type": "code",
      "source": [
        "# ResNet Module\n",
        "class ResNet(nn.Module):\n",
        "    def __init__(self, block, num_blocks, num_classes=10):\n",
        "        super(ResNet, self).__init__()\n",
        "        self.in_planes = CHANNEL\n",
        "\n",
        "        self.conv1 = nn.Conv2d(3, CHANNEL, kernel_size=3,\n",
        "                               stride=1, padding=1, bias=False)\n",
        "        self.bn1 = nn.BatchNorm2d(CHANNEL)\n",
        "        self.layer1 = self._make_layer(block, CHANNEL, num_blocks[0], stride=1)\n",
        "        self.layer2 = self._make_layer(block, CHANNEL*2, num_blocks[1], stride=2)\n",
        "        self.layer3 = self._make_layer(block, CHANNEL*4, num_blocks[2], stride=2)\n",
        "        self.layer4 = self._make_layer(block, CHANNEL*8, num_blocks[3], stride=2)\n",
        "        self.linear = nn.Linear(CHANNEL*8, num_classes)\n",
        "\n",
        "    def _make_layer(self, block, planes, num_blocks, stride):\n",
        "        strides = [stride] + [1]*(num_blocks-1)\n",
        "        layers = []\n",
        "        for stride in strides:\n",
        "            layers.append(block(self.in_planes, planes, stride))\n",
        "            self.in_planes = planes\n",
        "        return nn.Sequential(*layers)\n",
        "\n",
        "    def forward(self, x):\n",
        "        out = F.relu(self.bn1(self.conv1(x)))\n",
        "        out = self.layer1(out)\n",
        "        out = self.layer2(out)\n",
        "        out = self.layer3(out)\n",
        "        out = self.layer4(out)\n",
        "        out = F.avg_pool2d(out, 4)\n",
        "        out = out.view(out.size(0), -1)\n",
        "        out = self.linear(out)\n",
        "        return out\n",
        "\n",
        "def project_customized_model():\n",
        "    block = [2,2,2,2] # This is ResNet 18\n",
        "    return ResNet(BasicBlock, block)"
      ],
      "metadata": {
        "id": "a8n2EN31tLWR"
      },
      "execution_count": 46,
      "outputs": []
    },
    {
      "cell_type": "markdown",
      "source": [
        "# **Step 7: Train the ResNet model and Classifying the Test Data**\n",
        "\n",
        "\n",
        "*   Train the Training and Valid dataset with the the Fine Tuning Hyper Parameters\n",
        "*   Calculate and print the Test Accuracy\n"
      ],
      "metadata": {
        "id": "0zacW4gHt-eW"
      }
    },
    {
      "cell_type": "code",
      "source": [
        "def train_with_test(net,\n",
        "                    train_valid_loader,\n",
        "                    test_loader,\n",
        "                    batch_size,\n",
        "                    channel,\n",
        "                    epoch_num,\n",
        "                    lr,\n",
        "                    weight_decay,\n",
        "                    lr_decay_period,\n",
        "                    high_speed_lr_decay,\n",
        "                    low_speed_lr_decay,\n",
        "                    momentum):\n",
        "\n",
        "    loss = nn.CrossEntropyLoss()\n",
        "    optimizer = torch.optim.SGD(net.parameters(), lr=lr, momentum=momentum, weight_decay=weight_decay, dampening=DAMPENING)\n",
        "    train_loss_history = []\n",
        "    test_loss_history = []\n",
        "    train_acc_history = []\n",
        "    test_acc_history = []\n",
        "    start_time = datetime.datetime.now()\n",
        "    model_path = 'Train_With_Test_Model/' + str(start_time) + '_model.pt'\n",
        "    best_test_acc = 0\n",
        "    print('Start trainning, time: ', start_time)\n",
        "    f = open(\"Train_With_Test_Log/\" + str(start_time) + \".txt\", 'a')\n",
        "    f.write('This is the method from paper, without grey random\\n')\n",
        "    f.write('hyperparamter:\\n')\n",
        "    f.write('lr_decay_period:' + str(lr_decay_period) + '\\n')\n",
        "    f.write('batch_size:' + str(batch_size) + '\\n')\n",
        "    f.write('lr:' + str(lr) + '\\n')\n",
        "    f.write('epoch_num:' + str(epoch_num) + '\\n')\n",
        "    f.write('momentum:' + str(momentum) + '\\n')\n",
        "    f.write('weight_decay:' + str(weight_decay) + '\\n')\n",
        "    f.write('channel:' + str(channel) + '\\n')\n",
        "    f.write('Begin training, time: ' + str(start_time) + '\\n')\n",
        "    print(\"Total #Params: \", sum(p.numel() for p in net.parameters() if p.requires_grad))\n",
        "    print(\"-----------------------------------------------------------------------------------------------------\")\n",
        "    line_new = \"{:>5} {:>15} {:>15} {:>15} {:>15} {:>10} {:>20}\".format(\n",
        "        \"Epoch\", \"Train loss\", \"Test loss\", \"Train accuracy\", \"Test accuracy\", \"lr\", \"Running time\")\n",
        "    print(line_new)\n",
        "    print(\"#####################################################################################################\")\n",
        "    for epoch in range(epoch_num):\n",
        "        if epoch != 0 and epoch % lr_decay_period == 0:\n",
        "            print('***lr before decay: ', lr)\n",
        "            if lr > 0.002:\n",
        "                lr_decay = high_speed_lr_decay\n",
        "            else:\n",
        "                lr_decay = low_speed_lr_decay\n",
        "            lr *= lr_decay\n",
        "            optimizer = torch.optim.SGD(net.parameters(), lr=lr, momentum=momentum, weight_decay=weight_decay, dampening=DAMPENING)\n",
        "            print('***lr_decay: ', lr_decay)\n",
        "            print('***lr after decay: ', lr)\n",
        "            f.write('lr decays \\n')\n",
        "        train_loss = 0.0\n",
        "        train_acc = 0.0\n",
        "        net.train()\n",
        "        epoch_start_time = datetime.datetime.now()\n",
        "        for i, train_data in enumerate(train_valid_loader):\n",
        "            inputs, labels = train_data\n",
        "            inputs, labels = inputs.cuda(), labels.cuda()\n",
        "            optimizer.zero_grad()\n",
        "\n",
        "            # forward + backward\n",
        "            predicted_output = net(inputs)\n",
        "            fit = loss(predicted_output, labels)\n",
        "            fit.backward()\n",
        "            # fit.sum().backward()\n",
        "            optimizer.step()\n",
        "            train_loss += fit.item()\n",
        "            _, pred = predicted_output.max(1)\n",
        "            num_correct = (pred == labels).sum().item()\n",
        "            acc = num_correct / inputs.shape[0]\n",
        "            train_acc += acc\n",
        "        train_loss = train_loss / len(train_valid_loader)\n",
        "        train_loss_history.append(train_loss)\n",
        "        train_acc = train_acc / len(train_valid_loader)\n",
        "        train_acc_history.append(train_acc)\n",
        "        test_loss = 0.0\n",
        "        test_acc = 0.0\n",
        "\n",
        "        net.eval()\n",
        "        for j, data in enumerate(test_loader):\n",
        "            with torch.no_grad():\n",
        "                images, labels = data\n",
        "                images = images.cuda()\n",
        "                labels = labels.cuda()\n",
        "                predicted_output = net(images)\n",
        "                fit = loss(predicted_output, labels)\n",
        "                test_loss += fit.item()\n",
        "                _, pred = predicted_output.max(1)\n",
        "                num_correct = (pred == labels).sum().item()\n",
        "                acc = num_correct / images.shape[0]\n",
        "                test_acc += acc\n",
        "        test_loss = test_loss / len(test_loader)\n",
        "        test_loss_history.append(test_loss)\n",
        "        test_acc = test_acc / len(test_loader)\n",
        "        test_acc_history.append(test_acc)\n",
        "        epoch_end_time = datetime.datetime.now()\n",
        "\n",
        "        line_new = \"{:>5} {:>15} {:>15} {:>15} {:>15} {:>10} {:>20}\".format(\n",
        "            epoch,\n",
        "            round(train_loss, 5),\n",
        "            round(test_loss, 5),\n",
        "            round(train_acc, 5),\n",
        "            round(test_acc, 5),\n",
        "            round(lr, 8),\n",
        "            str(epoch_end_time - epoch_start_time))\n",
        "        print(line_new)\n",
        "\n",
        "        # print('Epoch %s, Train loss %.6f, Test loss %.6f, Train acc %.6f, Test acc %.6f, Running time %s' % (\n",
        "        # epoch, train_loss, test_loss, train_acc, test_acc, epoch_end_time - epoch_start_time))\n",
        "        f.write('Epoch %s, Train loss %.6f, Test loss %.6f, Train acc %.6f, Test acc %.6f, Running time %s' % (\n",
        "        epoch, train_loss, test_loss, train_acc, test_acc, epoch_end_time - epoch_start_time) + '\\n')\n",
        "        # save the best model\n",
        "        if test_acc > best_test_acc:\n",
        "            best_test_acc = test_acc\n",
        "            torch.save(net.state_dict(), model_path)\n",
        "\n",
        "    print('Finished trainning, end time:', epoch_end_time, 'Total running time,', epoch_end_time - start_time)\n",
        "    f.write('Finished trainning, end time:' + str(epoch_end_time) + 'Total running time,' + str(\n",
        "        epoch_end_time - start_time) + '\\n')\n",
        "\n",
        "    # count the number of trainable parametes\n",
        "    print(sum(p.numel() for p in net.parameters() if p.requires_grad))\n",
        "    f.write('The number of trainable parametes:' + str(sum(p.numel() for p in net.parameters() if p.requires_grad)) + '\\n')\n",
        "\n",
        "    plt.figure()\n",
        "    plt.plot(range(epoch_num), train_loss_history, '-', linewidth=3, label='Train error')\n",
        "    plt.plot(range(epoch_num), test_loss_history, '-', linewidth=3, label='Test error')\n",
        "    plt.xlabel('epoch')\n",
        "    plt.ylabel('loss')\n",
        "    plt.grid(True)\n",
        "    plt.legend()\n",
        "    plt.savefig('Train_With_Test_Log/' + str(start_time) + '_loss_history.png')\n",
        "\n",
        "    plt.figure()\n",
        "    plt.plot(range(epoch_num), train_acc_history, '-', linewidth=3, label='Train accuracy')\n",
        "    plt.plot(range(epoch_num), test_acc_history, '-', linewidth=3, label='Test accuracy')\n",
        "    plt.xlabel('epoch')\n",
        "    plt.ylabel('accuracy')\n",
        "    plt.grid(True)\n",
        "    plt.legend()\n",
        "    plt.savefig('Train_With_Test_Log/' + str(start_time) + '_acc_history.png')"
      ],
      "metadata": {
        "id": "HWrxraMOuGYf"
      },
      "execution_count": 47,
      "outputs": []
    },
    {
      "cell_type": "markdown",
      "source": [
        "# **Step 8: Execution**\n",
        "\n",
        "\n",
        "*   Fine Tunning Hyper Parameters\n",
        "*   Train the ResNet model and Classifying the Test Data\n"
      ],
      "metadata": {
        "id": "D4KPU0IR1p3y"
      }
    },
    {
      "cell_type": "code",
      "source": [
        "# Train the ResNet model and Classifying the Test Data\n",
        "net_for_train_with_test = project_customized_model().cuda()\n",
        "summary(net_for_train_with_test, (3, 32, 32))\n",
        "train_with_test(net_for_train_with_test,\n",
        "                train_valid_loader, \n",
        "                test_loader, \n",
        "                BATCH_SIZE,\n",
        "                CHANNEL,\n",
        "                EPOCH_NUM, \n",
        "                LR, \n",
        "                WEIGHT_DECAY, \n",
        "                LR_DECAY_PERIOD,\n",
        "                HIGH_SPEED_LR_DECAY,\n",
        "                LOW_SPEED_LR_DECAY,\n",
        "                MOMENTUM)"
      ],
      "metadata": {
        "colab": {
          "base_uri": "https://localhost:8080/",
          "height": 1000
        },
        "id": "wESN9R3w2xvh",
        "outputId": "b50b7979-24b5-449d-ffb7-56f5536d39e1"
      },
      "execution_count": 48,
      "outputs": [
        {
          "output_type": "stream",
          "name": "stdout",
          "text": [
            "----------------------------------------------------------------\n",
            "        Layer (type)               Output Shape         Param #\n",
            "================================================================\n",
            "            Conv2d-1           [-1, 25, 32, 32]             675\n",
            "       BatchNorm2d-2           [-1, 25, 32, 32]              50\n",
            "            Conv2d-3           [-1, 25, 32, 32]          15,625\n",
            "       BatchNorm2d-4           [-1, 25, 32, 32]              50\n",
            "            Conv2d-5           [-1, 25, 32, 32]          15,625\n",
            "       BatchNorm2d-6           [-1, 25, 32, 32]              50\n",
            "        BasicBlock-7           [-1, 25, 32, 32]               0\n",
            "            Conv2d-8           [-1, 25, 32, 32]          15,625\n",
            "       BatchNorm2d-9           [-1, 25, 32, 32]              50\n",
            "           Conv2d-10           [-1, 25, 32, 32]          15,625\n",
            "      BatchNorm2d-11           [-1, 25, 32, 32]              50\n",
            "       BasicBlock-12           [-1, 25, 32, 32]               0\n",
            "           Conv2d-13           [-1, 50, 16, 16]          31,250\n",
            "      BatchNorm2d-14           [-1, 50, 16, 16]             100\n",
            "           Conv2d-15           [-1, 50, 16, 16]          62,500\n",
            "      BatchNorm2d-16           [-1, 50, 16, 16]             100\n",
            "           Conv2d-17           [-1, 50, 16, 16]           1,250\n",
            "      BatchNorm2d-18           [-1, 50, 16, 16]             100\n",
            "       BasicBlock-19           [-1, 50, 16, 16]               0\n",
            "           Conv2d-20           [-1, 50, 16, 16]          62,500\n",
            "      BatchNorm2d-21           [-1, 50, 16, 16]             100\n",
            "           Conv2d-22           [-1, 50, 16, 16]          62,500\n",
            "      BatchNorm2d-23           [-1, 50, 16, 16]             100\n",
            "       BasicBlock-24           [-1, 50, 16, 16]               0\n",
            "           Conv2d-25            [-1, 100, 8, 8]         125,000\n",
            "      BatchNorm2d-26            [-1, 100, 8, 8]             200\n",
            "           Conv2d-27            [-1, 100, 8, 8]         250,000\n",
            "      BatchNorm2d-28            [-1, 100, 8, 8]             200\n",
            "           Conv2d-29            [-1, 100, 8, 8]           5,000\n",
            "      BatchNorm2d-30            [-1, 100, 8, 8]             200\n",
            "       BasicBlock-31            [-1, 100, 8, 8]               0\n",
            "           Conv2d-32            [-1, 100, 8, 8]         250,000\n",
            "      BatchNorm2d-33            [-1, 100, 8, 8]             200\n",
            "           Conv2d-34            [-1, 100, 8, 8]         250,000\n",
            "      BatchNorm2d-35            [-1, 100, 8, 8]             200\n",
            "       BasicBlock-36            [-1, 100, 8, 8]               0\n",
            "           Conv2d-37            [-1, 200, 4, 4]         500,000\n",
            "      BatchNorm2d-38            [-1, 200, 4, 4]             400\n",
            "           Conv2d-39            [-1, 200, 4, 4]       1,000,000\n",
            "      BatchNorm2d-40            [-1, 200, 4, 4]             400\n",
            "           Conv2d-41            [-1, 200, 4, 4]          20,000\n",
            "      BatchNorm2d-42            [-1, 200, 4, 4]             400\n",
            "       BasicBlock-43            [-1, 200, 4, 4]               0\n",
            "           Conv2d-44            [-1, 200, 4, 4]       1,000,000\n",
            "      BatchNorm2d-45            [-1, 200, 4, 4]             400\n",
            "           Conv2d-46            [-1, 200, 4, 4]       1,000,000\n",
            "      BatchNorm2d-47            [-1, 200, 4, 4]             400\n",
            "       BasicBlock-48            [-1, 200, 4, 4]               0\n",
            "           Linear-49                   [-1, 10]           2,010\n",
            "================================================================\n",
            "Total params: 4,688,935\n",
            "Trainable params: 4,688,935\n",
            "Non-trainable params: 0\n",
            "----------------------------------------------------------------\n",
            "Input size (MB): 0.01\n",
            "Forward/backward pass size (MB): 4.39\n",
            "Params size (MB): 17.89\n",
            "Estimated Total Size (MB): 22.29\n",
            "----------------------------------------------------------------\n",
            "Start trainning, time:  2023-04-09 21:49:20.006730\n",
            "Total #Params:  4688935\n",
            "-----------------------------------------------------------------------------------------------------\n",
            "Epoch      Train loss       Test loss  Train accuracy   Test accuracy         lr         Running time\n",
            "#####################################################################################################\n",
            "    0         1.69311         1.64243         0.37092         0.41288        0.1       0:00:10.254265\n",
            "    1         1.28906         1.21232         0.53394         0.57803        0.1       0:00:10.369247\n",
            "***lr before decay:  0.1\n",
            "***lr_decay:  0.7\n",
            "***lr after decay:  0.06999999999999999\n",
            "    2         1.00553         0.97884         0.64447         0.66139       0.07       0:00:10.213160\n",
            "    3         0.84908         0.79895         0.70317         0.71934       0.07       0:00:10.159554\n",
            "***lr before decay:  0.06999999999999999\n",
            "***lr_decay:  0.7\n",
            "***lr after decay:  0.048999999999999995\n",
            "    4         0.68773         0.65327         0.76223         0.77235      0.049       0:00:10.260630\n",
            "    5         0.63094         1.81382         0.78332         0.53985      0.049       0:00:10.583557\n",
            "***lr before decay:  0.048999999999999995\n",
            "***lr_decay:  0.7\n",
            "***lr after decay:  0.0343\n",
            "    6         0.53954         0.70227         0.81515         0.76325     0.0343       0:00:10.413324\n",
            "    7         0.50993         0.57432         0.82498         0.80558     0.0343       0:00:10.562050\n",
            "***lr before decay:  0.0343\n",
            "***lr_decay:  0.7\n",
            "***lr after decay:  0.024009999999999997\n",
            "    8         0.44337         0.56512         0.84874         0.81161    0.02401       0:00:10.501307\n",
            "    9         0.42286         0.51117         0.85398         0.82941    0.02401       0:00:10.395790\n",
            "***lr before decay:  0.024009999999999997\n",
            "***lr_decay:  0.7\n",
            "***lr after decay:  0.016806999999999996\n",
            "   10         0.36623         0.44334          0.8751         0.84998   0.016807       0:00:10.461956\n",
            "   11         0.34692         0.53394         0.88194         0.82526   0.016807       0:00:10.435648\n",
            "***lr before decay:  0.016806999999999996\n",
            "***lr_decay:  0.7\n",
            "***lr after decay:  0.011764899999999997\n",
            "   12         0.30141         0.40146         0.89721         0.86709  0.0117649       0:00:10.412326\n",
            "   13         0.28707         0.45228         0.90163         0.85601  0.0117649       0:00:10.324089\n",
            "***lr before decay:  0.011764899999999997\n",
            "***lr_decay:  0.7\n",
            "***lr after decay:  0.008235429999999997\n",
            "   14         0.24717         0.41602         0.91514         0.86373 0.00823543       0:00:10.508917\n",
            "   15         0.23678         0.41492         0.91945         0.86877 0.00823543       0:00:10.405061\n",
            "***lr before decay:  0.008235429999999997\n",
            "***lr_decay:  0.7\n",
            "***lr after decay:  0.005764800999999997\n",
            "   16          0.1982         0.35174          0.9325         0.88983  0.0057648       0:00:10.700113\n",
            "   17         0.19269         0.37138         0.93555         0.87866  0.0057648       0:00:10.334343\n",
            "***lr before decay:  0.005764800999999997\n",
            "***lr_decay:  0.7\n",
            "***lr after decay:  0.004035360699999998\n",
            "   18         0.16502         0.34925         0.94421         0.88964 0.00403536       0:00:10.704813\n",
            "   19         0.15371         0.35952         0.94816         0.88726 0.00403536       0:00:10.501551\n",
            "***lr before decay:  0.004035360699999998\n",
            "***lr_decay:  0.7\n",
            "***lr after decay:  0.0028247524899999983\n",
            "   20         0.12949          0.3462         0.95581         0.89468 0.00282475       0:00:10.357570\n",
            "   21         0.11837         0.34585         0.96011         0.89527 0.00282475       0:00:10.402827\n",
            "***lr before decay:  0.0028247524899999983\n",
            "***lr_decay:  0.7\n",
            "***lr after decay:  0.0019773267429999985\n",
            "   22         0.10249         0.33173         0.96651         0.90249 0.00197733       0:00:10.579703\n",
            "   23         0.09394         0.34438         0.96986         0.89804 0.00197733       0:00:10.150123\n",
            "***lr before decay:  0.0019773267429999985\n",
            "***lr_decay:  0.85\n",
            "***lr after decay:  0.0016807277315499987\n",
            "   24         0.08506         0.34228         0.97169         0.90328 0.00168073       0:00:10.735971\n",
            "   25         0.08352         0.35413         0.97244         0.90101 0.00168073       0:00:10.493193\n",
            "***lr before decay:  0.0016807277315499987\n",
            "***lr_decay:  0.85\n",
            "***lr after decay:  0.0014286185718174987\n",
            "   26         0.07268         0.35382         0.97657         0.89972 0.00142862       0:00:10.742083\n",
            "   27         0.07024         0.34348         0.97698         0.90368 0.00142862       0:00:10.517429\n",
            "***lr before decay:  0.0014286185718174987\n",
            "***lr_decay:  0.85\n",
            "***lr after decay:  0.001214325786044874\n",
            "   28          0.0634         0.34618         0.97995          0.9022 0.00121433       0:00:10.548585\n",
            "   29         0.05958         0.35294         0.98132         0.90378 0.00121433       0:00:10.793677\n",
            "Finished trainning, end time: 2023-04-09 21:54:34.696195 Total running time, 0:05:14.689465\n",
            "4688935\n"
          ]
        },
        {
          "output_type": "display_data",
          "data": {
            "text/plain": [
              "<Figure size 640x480 with 1 Axes>"
            ],
            "image/png": "[encoded data removed]"
          },
          "metadata": {}
        },
        {
          "output_type": "display_data",
          "data": {
            "text/plain": [
              "<Figure size 640x480 with 1 Axes>"
            ],
            "image/png": "[encoded data removed]"
          },
          "metadata": {}
        }
      ]
    }
  ]
}