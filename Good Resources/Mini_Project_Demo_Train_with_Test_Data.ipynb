{
  "nbformat": 4,
  "nbformat_minor": 0,
  "metadata": {
    "colab": {
      "provenance": [],
      "machine_shape": "hm"
    },
    "kernelspec": {
      "name": "python3",
      "display_name": "Python 3"
    },
    "language_info": {
      "name": "python"
    },
    "accelerator": "GPU",
    "gpuClass": "premium"
  },
  "cells": [
    {
      "cell_type": "markdown",
      "source": [
        "## 1. **Import Project Related Packages**\n",
        "\n",
        "*   numpy == 1.21.6\n",
        "*   matplotlib == 3.2.2\n",
        "*   torch == 1.12.1+cu113\n",
        "*   torchvision == 0.13.1+cu113\n"
      ],
      "metadata": {
        "id": "n4rzscb9SXiR"
      }
    },
    {
      "cell_type": "code",
      "source": [
        "import datetime\n",
        "import matplotlib.pyplot as plt\n",
        "import numpy as np\n",
        "import ssl\n",
        "import torch\n",
        "import torch.nn as nn\n",
        "import torch.nn.functional as F\n",
        "\n",
        "from torchsummary import summary\n",
        "from torchvision import transforms\n",
        "from torchvision import datasets\n",
        "ssl._create_default_https_context = ssl._create_unverified_context\n"
      ],
      "metadata": {
        "id": "B0UW-V9RSanX"
      },
      "execution_count": 53,
      "outputs": []
    },
    {
      "cell_type": "markdown",
      "source": [
        "## 2. **Check Runtime's GPU Availability**\n"
      ],
      "metadata": {
        "id": "MFU2OkqbTQDR"
      }
    },
    {
      "cell_type": "code",
      "source": [
        "train_on_gpu = torch.cuda.is_available()\n",
        "# check whether CUDA is available\n",
        "if not train_on_gpu:\n",
        "    print('CUDA is not available')\n",
        "else:\n",
        "    print('CUDA is available')\n",
        "    "
      ],
      "metadata": {
        "colab": {
          "base_uri": "https://localhost:8080/"
        },
        "id": "JS02aMblTNjL",
        "outputId": "f7f1a45f-c9d8-493b-be7d-fa3e6ecd428f"
      },
      "execution_count": 54,
      "outputs": [
        {
          "output_type": "stream",
          "name": "stdout",
          "text": [
            "CUDA is available\n"
          ]
        }
      ]
    },
    {
      "cell_type": "markdown",
      "source": [
        "## 3. **Set Up Hyper Parameter Space:**\n",
        "\n",
        "\n",
        "1.   Train/Validation data's training process\n",
        "2.   After fine tuning, train model and generate test data accuracy\n",
        "\n"
      ],
      "metadata": {
        "id": "9U4iE0WPTeQI"
      }
    },
    {
      "cell_type": "code",
      "source": [
        "# Batch size for each data iteration\n",
        "BATCH_SIZE = 128\n",
        "\n",
        "# The ratio of split the validation set out of the original training set\n",
        "VALID_RATIO = 0.1\n",
        "\n",
        "# ResNet's number of input channel\n",
        "CHANNEL = 25\n",
        "\n",
        "# Number of epoch\n",
        "EPOCH_NUM = 30\n",
        "\n",
        "# Learning Rate\n",
        "LR = 0.1\n",
        "# Learning Rate Decay Period. For example, apply decay to learning rate every X epochs\n",
        "LR_DECAY_PERIOD = 2\n",
        "\n",
        "# High Speed Lerning Rate Decay. \n",
        "# For example, if the current lr is 0.1, the lr after decay is 0.5\n",
        "HIGH_SPEED_LR_DECAY = 0.4\n",
        "\n",
        "# Low Speed Lerning Rate Decay. \n",
        "# For example, if the current lr is 0.1, the lr after decay is 0.8\n",
        "LOW_SPEED_LR_DECAY = 0.9\n",
        "\n",
        "# Weight Decay\n",
        "WEIGHT_DECAY = 0.001\n",
        "\n",
        "# Momentum\n",
        "MOMENTUM = 0.9\n"
      ],
      "metadata": {
        "id": "tofJmPR2TTKX"
      },
      "execution_count": 55,
      "outputs": []
    },
    {
      "cell_type": "markdown",
      "source": [
        "## 4. **Extract and Optimize the RAW CIFAR-10 Data:**\n",
        "\n",
        "1.   Create directories for Model and Log data\n",
        "2.   Customize the Transform process for train and test data\n",
        "3.   Split 10% of the RAW train data as valid data\n",
        "4.   Generate the:\n",
        "    *   Train and Valid Data Iteration: 50,000 rows of data\n",
        "    *   Train Data Iteration:           45,000 rows of data\n",
        "    *   Valid Data Iteration:            5,000 rows of data\n",
        "    *   Test Data Iteration:            10,000 rows of data\n"
      ],
      "metadata": {
        "id": "q3MX3YfrUPcF"
      }
    },
    {
      "cell_type": "code",
      "source": [
        "# Create directories for Model and Log data\n",
        "!mkdir -p ./Train_With_Test_Log ./Train_With_Test_Model ./Train_With_Valid_Log ./Train_With_Valid_Model\n"
      ],
      "metadata": {
        "id": "y47-x7KbTdJu"
      },
      "execution_count": 56,
      "outputs": []
    },
    {
      "cell_type": "code",
      "source": [
        "# Customize the Transform process for train and test data\n",
        "def train_transform(x):\n",
        "    image_aug = transforms.Compose([transforms.RandomCrop(32, padding=4),\n",
        "                                    transforms.RandomHorizontalFlip(p=0.5),\n",
        "                                    transforms.ToTensor(),\n",
        "                                    transforms.Normalize((0.4914,0.4822,0.4465), \n",
        "                                                         (0.2023,0.1994,0.2010))])\n",
        "    x = image_aug(x)\n",
        "    return x\n",
        "\n",
        "# Customize the Transform process for train and test data\n",
        "def test_transform(x):\n",
        "    image_aug = transforms.Compose([transforms.ToTensor(), transforms.Normalize((0.4914,0.4822,0.4465), \n",
        "                                                                                (0.2023,0.1994,0.2010))])\n",
        "    x = image_aug(x)\n",
        "    return x\n"
      ],
      "metadata": {
        "id": "-o84sCqSUS0b"
      },
      "execution_count": 57,
      "outputs": []
    },
    {
      "cell_type": "code",
      "source": [
        "# Download the RAW data                                \n",
        "train_valid_ds = datasets.CIFAR10('Data', \n",
        "                                  train=True, \n",
        "                                  download=True, \n",
        "                                  transform=train_transform)\n",
        "test_ds = datasets.CIFAR10('Data', \n",
        "                           train=False, \n",
        "                           download=True, \n",
        "                           transform=test_transform)\n"
      ],
      "metadata": {
        "colab": {
          "base_uri": "https://localhost:8080/"
        },
        "id": "TRyL5yVmUz2P",
        "outputId": "64d93281-9174-4a98-e129-4902de8731c4"
      },
      "execution_count": 58,
      "outputs": [
        {
          "output_type": "stream",
          "name": "stdout",
          "text": [
            "Files already downloaded and verified\n",
            "Files already downloaded and verified\n"
          ]
        }
      ]
    },
    {
      "cell_type": "code",
      "source": [
        "# Split 10% of the RAW train data as valid data\n",
        "valid_ds_size = int(len(train_valid_ds) * VALID_RATIO)\n",
        "train_ds_size = len(train_valid_ds) - valid_ds_size\n",
        "\n",
        "# Split Train and Valid data\n",
        "train_ds, valid_ds = torch.utils.data.random_split(train_valid_ds, \n",
        "                                                   [train_ds_size, valid_ds_size]) \n"
      ],
      "metadata": {
        "id": "BbvLDlpUVNGa"
      },
      "execution_count": 59,
      "outputs": []
    },
    {
      "cell_type": "markdown",
      "source": [
        "## 5. **Acquiring the Re-orgnaized Datasets to Data Iteration format:**\n",
        "\n",
        "*   train_valid_iter\n",
        "*   train_iter\n",
        "*   valid_iter\n",
        "*   test_iter    \n"
      ],
      "metadata": {
        "id": "Dj-j75U6Vac1"
      }
    },
    {
      "cell_type": "code",
      "source": [
        "# Generate the:\n",
        "# 1) Train and Valid Data Loader: 50,000 rows of data\n",
        "# 2) Train Data Loader: 45,000 rows of data\n",
        "# 3) Valid Data Loader: 5,000 rows of data\n",
        "# 4) Test Data Loader: 10,000 rows of data\n",
        "\n",
        "# Train and Valid Data Loader: 50,000 rows of data\n",
        "train_valid_loader = torch.utils.data.DataLoader(train_valid_ds, \n",
        "                                                 batch_size=BATCH_SIZE, \n",
        "                                                 shuffle=True, \n",
        "                                                 num_workers=3)\n",
        "\n",
        "# Train Valid Data Loader (Removed the 5,000 row for Validation): 50,000 rows of data\n",
        "train_loader = torch.utils.data.DataLoader(train_ds, \n",
        "                                           batch_size=BATCH_SIZE, \n",
        "                                           shuffle=True, \n",
        "                                           num_workers=3)\n",
        "\n",
        "# Valid Data Loader: 5,000 rows of data\n",
        "valid_loader = torch.utils.data.DataLoader(valid_ds, \n",
        "                                           batch_size=BATCH_SIZE, \n",
        "                                           shuffle=False, \n",
        "                                           num_workers=3)\n",
        "\n",
        "# Test Data Loader: 10,000 rows of data\n",
        "test_loader = torch.utils.data.DataLoader(test_ds, \n",
        "                                          batch_size=BATCH_SIZE, \n",
        "                                          shuffle=False, \n",
        "                                          num_workers=3)\n"
      ],
      "metadata": {
        "id": "Es1IzlrKVUh2"
      },
      "execution_count": 60,
      "outputs": []
    },
    {
      "cell_type": "markdown",
      "source": [
        "# 6. Define the ResNet Model Architecture\n",
        "\n",
        "\n",
        "1.   Basic Block\n",
        "2.   General ResNet Architecture\n"
      ],
      "metadata": {
        "id": "O1gJFqBYXN96"
      }
    },
    {
      "cell_type": "code",
      "source": [
        "# Basic Block for ResNet Model\n",
        "class BasicBlock(nn.Module):\n",
        "\n",
        "    def __init__(self, in_planes, planes, stride=1):\n",
        "        super(BasicBlock, self).__init__()\n",
        "        self.conv1 = nn.Conv2d(\n",
        "            in_planes, planes, kernel_size=5, stride=stride, padding=2, bias=False)\n",
        "        self.bn1 = nn.BatchNorm2d(planes)\n",
        "        self.conv2 = nn.Conv2d(planes, planes, kernel_size=5,\n",
        "                               stride=1, padding=2, bias=False)\n",
        "        self.bn2 = nn.BatchNorm2d(planes)\n",
        "\n",
        "        self.shortcut = nn.Sequential()\n",
        "        if stride != 1 or in_planes != planes:\n",
        "            self.shortcut = nn.Sequential(\n",
        "                nn.Conv2d(in_planes, planes,\n",
        "                          kernel_size=1, stride=stride, bias=False),\n",
        "                nn.BatchNorm2d(planes)\n",
        "            )\n",
        "\n",
        "    def forward(self, x):\n",
        "        out = F.relu(self.bn1(self.conv1(x)))\n",
        "        out = self.bn2(self.conv2(out))\n",
        "        out += self.shortcut(x)\n",
        "        out = F.relu(out)\n",
        "        return out\n"
      ],
      "metadata": {
        "id": "P6wGnzcEXEvq"
      },
      "execution_count": 61,
      "outputs": []
    },
    {
      "cell_type": "code",
      "source": [
        "# ResNet Module\n",
        "class ResNet(nn.Module):\n",
        "    def __init__(self, block, num_blocks, num_classes=10):\n",
        "        super(ResNet, self).__init__()\n",
        "        self.in_planes = CHANNEL\n",
        "\n",
        "        self.conv1 = nn.Conv2d(3, CHANNEL, kernel_size=3,\n",
        "                               stride=1, padding=1, bias=False)\n",
        "        self.bn1 = nn.BatchNorm2d(CHANNEL)\n",
        "        self.layer1 = self._make_layer(block, CHANNEL, num_blocks[0], stride=1)\n",
        "        self.layer2 = self._make_layer(block, CHANNEL*2, num_blocks[1], stride=2)\n",
        "        self.layer3 = self._make_layer(block, CHANNEL*4, num_blocks[2], stride=2)\n",
        "        self.layer4 = self._make_layer(block, CHANNEL*8, num_blocks[3], stride=2)\n",
        "        self.linear = nn.Linear(CHANNEL*8, num_classes)\n",
        "\n",
        "    def _make_layer(self, block, planes, num_blocks, stride):\n",
        "        strides = [stride] + [1]*(num_blocks-1)\n",
        "        layers = []\n",
        "        for stride in strides:\n",
        "            layers.append(block(self.in_planes, planes, stride))\n",
        "            self.in_planes = planes\n",
        "        return nn.Sequential(*layers)\n",
        "\n",
        "    def forward(self, x):\n",
        "        out = F.relu(self.bn1(self.conv1(x)))\n",
        "        out = self.layer1(out)\n",
        "        out = self.layer2(out)\n",
        "        out = self.layer3(out)\n",
        "        out = self.layer4(out)\n",
        "        out = F.avg_pool2d(out, 4)\n",
        "        out = out.view(out.size(0), -1)\n",
        "        out = self.linear(out)\n",
        "        return out\n",
        "\n",
        "def project_customized_model():\n",
        "    block = [2,2,2,2]\n",
        "    return ResNet(BasicBlock, block)\n",
        "    "
      ],
      "metadata": {
        "id": "cVW2RfMCXQQO"
      },
      "execution_count": 62,
      "outputs": []
    },
    {
      "cell_type": "markdown",
      "source": [
        "# **7. Training and Validating the Model --- Fine Tunning Hyper Parameters**\n",
        "\n",
        "\n",
        "*   Tuning the Hyper Parameters with Training/Validation Data\n"
      ],
      "metadata": {
        "id": "70GKjb9TXucV"
      }
    },
    {
      "cell_type": "code",
      "source": [
        "def train_with_valid(net,\n",
        "                     train_loader,\n",
        "                     valid_loader,\n",
        "                     batch_size,\n",
        "                     channel,\n",
        "                     epoch_num,\n",
        "                     lr,\n",
        "                     weight_decay,\n",
        "                     lr_decay_period,\n",
        "                     high_speed_lr_decay,\n",
        "                     low_speed_lr_decay,\n",
        "                     momentum):\n",
        "\n",
        "    loss = nn.CrossEntropyLoss()\n",
        "    optimizer = torch.optim.SGD(net.parameters(), lr=lr, momentum=momentum, weight_decay=weight_decay)\n",
        "    train_loss_history = []\n",
        "    test_loss_history = []\n",
        "    train_acc_history = []\n",
        "    test_acc_history = []\n",
        "    start_time = datetime.datetime.now()\n",
        "    model_path = 'Train_With_Valid_Model/' + str(start_time) + '_model.pt'\n",
        "    best_test_acc = 0\n",
        "    print('Start trainning, time: ', start_time)\n",
        "    f = open(\"Train_With_Valid_Log/\" + str(start_time) + \".txt\", 'a')\n",
        "    f.write('This is the method from paper, without grey random\\n')\n",
        "    f.write('hyperparamter:\\n')\n",
        "    f.write('lr_decay_period:' + str(lr_decay_period) + '\\n')\n",
        "    f.write('batch_size:' + str(batch_size) + '\\n')\n",
        "    f.write('lr:' + str(lr) + '\\n')\n",
        "    f.write('epoch_num:' + str(epoch_num) + '\\n')\n",
        "    f.write('momentum:' + str(momentum) + '\\n')\n",
        "    f.write('weight_decay:' + str(weight_decay) + '\\n')\n",
        "    f.write('channel:' + str(channel) + '\\n')\n",
        "    f.write('Begin training, time: ' + str(start_time) + '\\n')\n",
        "    print(\"Total #Params: \", sum(p.numel() for p in net.parameters() if p.requires_grad))\n",
        "    print(\"-----------------------------------------------------------------------------------------------------\")\n",
        "    line_new = \"{:>5} {:>15} {:>15} {:>15} {:>15} {:>10} {:>20}\".format(\n",
        "        \"Epoch\", \"Train loss\", \"Valid loss\", \"Train acc\", \"Valid acc\", \"lr\", \"Running time\")\n",
        "    print(line_new)\n",
        "    print(\"=====================================================================================================\")\n",
        "    for epoch in range(epoch_num):\n",
        "        if epoch != 0 and epoch % lr_decay_period == 0:\n",
        "            print('***lr before decay: ', lr)\n",
        "            if lr > 0.002:\n",
        "                lr_decay = high_speed_lr_decay\n",
        "            else:\n",
        "                lr_decay = low_speed_lr_decay\n",
        "            lr *= lr_decay\n",
        "            optimizer = torch.optim.SGD(net.parameters(), lr=lr, momentum=momentum, weight_decay=weight_decay)\n",
        "            print('***lr_decay: ', lr_decay)\n",
        "            print('***lr after decay: ', lr)\n",
        "            f.write('lr decays \\n')\n",
        "        train_loss = 0.0\n",
        "        train_acc = 0.0\n",
        "        net.train()\n",
        "        epoch_start_time = datetime.datetime.now()\n",
        "        for i, train_data in enumerate(train_loader):\n",
        "            inputs, labels = train_data\n",
        "            inputs, labels = inputs.cuda(), labels.cuda()\n",
        "            optimizer.zero_grad()\n",
        "\n",
        "            # forward + backward\n",
        "            predicted_output = net(inputs)\n",
        "            fit = loss(predicted_output, labels)\n",
        "            fit.backward()\n",
        "            # fit.sum().backward()\n",
        "            optimizer.step()\n",
        "            train_loss += fit.item()\n",
        "            _, pred = predicted_output.max(1)\n",
        "            num_correct = (pred == labels).sum().item()\n",
        "            acc = num_correct / inputs.shape[0]\n",
        "            train_acc += acc\n",
        "        train_loss = train_loss / len(train_loader)\n",
        "        train_loss_history.append(train_loss)\n",
        "        train_acc = train_acc / len(train_loader)\n",
        "        train_acc_history.append(train_acc)\n",
        "        test_loss = 0.0\n",
        "        test_acc = 0.0\n",
        "\n",
        "        net.eval()\n",
        "        for j, data in enumerate(valid_loader):\n",
        "            with torch.no_grad():\n",
        "                images, labels = data\n",
        "                images = images.cuda()\n",
        "                labels = labels.cuda()\n",
        "                predicted_output = net(images)\n",
        "                fit = loss(predicted_output, labels)\n",
        "                test_loss += fit.item()\n",
        "                _, pred = predicted_output.max(1)\n",
        "                num_correct = (pred == labels).sum().item()\n",
        "                acc = num_correct / images.shape[0]\n",
        "                test_acc += acc\n",
        "        test_loss = test_loss / len(valid_loader)\n",
        "        test_loss_history.append(test_loss)\n",
        "        test_acc = test_acc / len(valid_loader)\n",
        "        test_acc_history.append(test_acc)\n",
        "        epoch_end_time = datetime.datetime.now()\n",
        "\n",
        "        line_new = \"{:>5} {:>15} {:>15} {:>15} {:>15} {:>10} {:>20}\".format(\n",
        "            epoch,\n",
        "            round(train_loss, 5),\n",
        "            round(test_loss, 5),\n",
        "            round(train_acc, 5),\n",
        "            round(test_acc, 5),\n",
        "            round(lr, 8),\n",
        "            str(epoch_end_time - epoch_start_time))\n",
        "        print(line_new)\n",
        "\n",
        "        # print('Epoch %s, Train loss %.6f, Valid loss %.6f, Train acc %.6f, Valid acc %.6f, Running time %s' % (\n",
        "        # epoch, train_loss, test_loss, train_acc, test_acc, epoch_end_time - epoch_start_time))\n",
        "        f.write('Epoch %s, Train loss %.6f, Valid loss %.6f, Train acc %.6f, Valid acc %.6f, Running time %s' % (\n",
        "        epoch, train_loss, test_loss, train_acc, test_acc, epoch_end_time - epoch_start_time) + '\\n')\n",
        "        # save the best model\n",
        "        if test_acc > best_test_acc:\n",
        "            best_test_acc = test_acc\n",
        "            torch.save(net.state_dict(), model_path)\n",
        "\n",
        "    print('Finished trainning, end time:', epoch_end_time, 'Total running time,', epoch_end_time - start_time)\n",
        "    f.write('Finished trainning, end time:' + str(epoch_end_time) + 'Total running time,' + str(\n",
        "        epoch_end_time - start_time) + '\\n')\n",
        "\n",
        "    # count the number of trainable parametes\n",
        "    print(sum(p.numel() for p in net.parameters() if p.requires_grad))\n",
        "    f.write('The number of trainable parametes:' + str(sum(p.numel() for p in net.parameters() if p.requires_grad)) + '\\n')\n",
        "\n",
        "    plt.figure()\n",
        "    plt.plot(range(epoch_num), train_loss_history, '-', linewidth=3, label='Train error')\n",
        "    plt.plot(range(epoch_num), test_loss_history, '-', linewidth=3, label='Valid error')\n",
        "    plt.xlabel('epoch')\n",
        "    plt.ylabel('loss')\n",
        "    plt.grid(True)\n",
        "    plt.legend()\n",
        "    plt.savefig('Train_With_Valid_Log/' + str(start_time) + '_loss_history.png')\n",
        "\n",
        "    plt.figure()\n",
        "    plt.plot(range(epoch_num), train_acc_history, '-', linewidth=3, label='Train accuracy')\n",
        "    plt.plot(range(epoch_num), test_acc_history, '-', linewidth=3, label='Valid accuracy')\n",
        "    plt.xlabel('epoch')\n",
        "    plt.ylabel('accuracy')\n",
        "    plt.grid(True)\n",
        "    plt.legend()\n",
        "    plt.savefig('Train_With_Valid_Log/' + str(start_time) + '_acc_history.png')\n"
      ],
      "metadata": {
        "id": "XJpyB1TFXR_G"
      },
      "execution_count": 63,
      "outputs": []
    },
    {
      "cell_type": "markdown",
      "source": [
        "# 8 **Train the ResNet model and Classifying the Test Data**\n",
        "\n",
        "\n",
        "*   Based on the Fine Tuning Hyper Parameters to train the overall traning+valid dataset\n",
        "*   Check the Test Accuracy\n"
      ],
      "metadata": {
        "id": "YPfzYDlvYf4L"
      }
    },
    {
      "cell_type": "code",
      "source": [
        "def train_with_test(net,\n",
        "                    train_valid_loader,\n",
        "                    test_loader,\n",
        "                    batch_size,\n",
        "                    channel,\n",
        "                    epoch_num,\n",
        "                    lr,\n",
        "                    weight_decay,\n",
        "                    lr_decay_period,\n",
        "                    high_speed_lr_decay,\n",
        "                    low_speed_lr_decay,\n",
        "                    momentum):\n",
        "\n",
        "    loss = nn.CrossEntropyLoss()\n",
        "    optimizer = torch.optim.SGD(net.parameters(), lr=lr, momentum=momentum, weight_decay=weight_decay)\n",
        "    train_loss_history = []\n",
        "    test_loss_history = []\n",
        "    train_acc_history = []\n",
        "    test_acc_history = []\n",
        "    start_time = datetime.datetime.now()\n",
        "    model_path = 'Train_With_Test_Model/' + str(start_time) + '_model.pt'\n",
        "    best_test_acc = 0\n",
        "    print('Start trainning, time: ', start_time)\n",
        "    f = open(\"Train_With_Test_Log/\" + str(start_time) + \".txt\", 'a')\n",
        "    f.write('This is the method from paper, without grey random\\n')\n",
        "    f.write('hyperparamter:\\n')\n",
        "    f.write('lr_decay_period:' + str(lr_decay_period) + '\\n')\n",
        "    f.write('batch_size:' + str(batch_size) + '\\n')\n",
        "    f.write('lr:' + str(lr) + '\\n')\n",
        "    f.write('epoch_num:' + str(epoch_num) + '\\n')\n",
        "    f.write('momentum:' + str(momentum) + '\\n')\n",
        "    f.write('weight_decay:' + str(weight_decay) + '\\n')\n",
        "    f.write('channel:' + str(channel) + '\\n')\n",
        "    f.write('Begin training, time: ' + str(start_time) + '\\n')\n",
        "    print(\"Total #Params: \", sum(p.numel() for p in net.parameters() if p.requires_grad))\n",
        "    print(\"-----------------------------------------------------------------------------------------------------\")\n",
        "    line_new = \"{:>5} {:>15} {:>15} {:>15} {:>15} {:>10} {:>20}\".format(\n",
        "        \"Epoch\", \"Train loss\", \"Test loss\", \"Train acc\", \"Test acc\", \"lr\", \"Running time\")\n",
        "    print(line_new)\n",
        "    print(\"=====================================================================================================\")\n",
        "    for epoch in range(epoch_num):\n",
        "        if epoch != 0 and epoch % lr_decay_period == 0:\n",
        "            print('***lr before decay: ', lr)\n",
        "            if lr > 0.002:\n",
        "                lr_decay = high_speed_lr_decay\n",
        "            else:\n",
        "                lr_decay = low_speed_lr_decay\n",
        "            lr *= lr_decay\n",
        "            optimizer = torch.optim.SGD(net.parameters(), lr=lr, momentum=momentum, weight_decay=weight_decay)\n",
        "            print('***lr_decay: ', lr_decay)\n",
        "            print('***lr after decay: ', lr)\n",
        "            f.write('lr decays \\n')\n",
        "        train_loss = 0.0\n",
        "        train_acc = 0.0\n",
        "        net.train()\n",
        "        epoch_start_time = datetime.datetime.now()\n",
        "        for i, train_data in enumerate(train_valid_loader):\n",
        "            inputs, labels = train_data\n",
        "            inputs, labels = inputs.cuda(), labels.cuda()\n",
        "            optimizer.zero_grad()\n",
        "\n",
        "            # forward + backward\n",
        "            predicted_output = net(inputs)\n",
        "            fit = loss(predicted_output, labels)\n",
        "            fit.backward()\n",
        "            # fit.sum().backward()\n",
        "            optimizer.step()\n",
        "            train_loss += fit.item()\n",
        "            _, pred = predicted_output.max(1)\n",
        "            num_correct = (pred == labels).sum().item()\n",
        "            acc = num_correct / inputs.shape[0]\n",
        "            train_acc += acc\n",
        "        train_loss = train_loss / len(train_valid_loader)\n",
        "        train_loss_history.append(train_loss)\n",
        "        train_acc = train_acc / len(train_valid_loader)\n",
        "        train_acc_history.append(train_acc)\n",
        "        test_loss = 0.0\n",
        "        test_acc = 0.0\n",
        "\n",
        "        net.eval()\n",
        "        for j, data in enumerate(test_loader):\n",
        "            with torch.no_grad():\n",
        "                images, labels = data\n",
        "                images = images.cuda()\n",
        "                labels = labels.cuda()\n",
        "                predicted_output = net(images)\n",
        "                fit = loss(predicted_output, labels)\n",
        "                test_loss += fit.item()\n",
        "                _, pred = predicted_output.max(1)\n",
        "                num_correct = (pred == labels).sum().item()\n",
        "                acc = num_correct / images.shape[0]\n",
        "                test_acc += acc\n",
        "        test_loss = test_loss / len(test_loader)\n",
        "        test_loss_history.append(test_loss)\n",
        "        test_acc = test_acc / len(test_loader)\n",
        "        test_acc_history.append(test_acc)\n",
        "        epoch_end_time = datetime.datetime.now()\n",
        "\n",
        "        line_new = \"{:>5} {:>15} {:>15} {:>15} {:>15} {:>10} {:>20}\".format(\n",
        "            epoch,\n",
        "            round(train_loss, 5),\n",
        "            round(test_loss, 5),\n",
        "            round(train_acc, 5),\n",
        "            round(test_acc, 5),\n",
        "            round(lr, 8),\n",
        "            str(epoch_end_time - epoch_start_time))\n",
        "        print(line_new)\n",
        "\n",
        "        # print('Epoch %s, Train loss %.6f, Test loss %.6f, Train acc %.6f, Test acc %.6f, Running time %s' % (\n",
        "        # epoch, train_loss, test_loss, train_acc, test_acc, epoch_end_time - epoch_start_time))\n",
        "        f.write('Epoch %s, Train loss %.6f, Test loss %.6f, Train acc %.6f, Test acc %.6f, Running time %s' % (\n",
        "        epoch, train_loss, test_loss, train_acc, test_acc, epoch_end_time - epoch_start_time) + '\\n')\n",
        "        # save the best model\n",
        "        if test_acc > best_test_acc:\n",
        "            best_test_acc = test_acc\n",
        "            torch.save(net.state_dict(), model_path)\n",
        "\n",
        "    print('Finished trainning, end time:', epoch_end_time, 'Total running time,', epoch_end_time - start_time)\n",
        "    f.write('Finished trainning, end time:' + str(epoch_end_time) + 'Total running time,' + str(\n",
        "        epoch_end_time - start_time) + '\\n')\n",
        "\n",
        "    # count the number of trainable parametes\n",
        "    print(sum(p.numel() for p in net.parameters() if p.requires_grad))\n",
        "    f.write('The number of trainable parametes:' + str(sum(p.numel() for p in net.parameters() if p.requires_grad)) + '\\n')\n",
        "\n",
        "    plt.figure()\n",
        "    plt.plot(range(epoch_num), train_loss_history, '-', linewidth=3, label='Train error')\n",
        "    plt.plot(range(epoch_num), test_loss_history, '-', linewidth=3, label='Test error')\n",
        "    plt.xlabel('epoch')\n",
        "    plt.ylabel('loss')\n",
        "    plt.grid(True)\n",
        "    plt.legend()\n",
        "    plt.savefig('Train_With_Test_Log/' + str(start_time) + '_loss_history.png')\n",
        "\n",
        "    plt.figure()\n",
        "    plt.plot(range(epoch_num), train_acc_history, '-', linewidth=3, label='Train accuracy')\n",
        "    plt.plot(range(epoch_num), test_acc_history, '-', linewidth=3, label='Test accuracy')\n",
        "    plt.xlabel('epoch')\n",
        "    plt.ylabel('accuracy')\n",
        "    plt.grid(True)\n",
        "    plt.legend()\n",
        "    plt.savefig('Train_With_Test_Log/' + str(start_time) + '_acc_history.png')\n"
      ],
      "metadata": {
        "id": "Ru4I4oeyXtoC"
      },
      "execution_count": 64,
      "outputs": []
    },
    {
      "cell_type": "markdown",
      "source": [
        "# 9 **Execution**\n",
        "\n",
        "\n",
        "*   Training and Validating the Model --- Fine Tunning Hyper Parameters\n",
        "*   Train the ResNet model and Classifying the Test Data\n"
      ],
      "metadata": {
        "id": "gxxF6cU3ZjXW"
      }
    },
    {
      "cell_type": "markdown",
      "source": [
        "## 9.1 Execution for Training and Validating the Model --- Fine Tunning HyperParams"
      ],
      "metadata": {
        "id": "tGKTDvx2aDod"
      }
    },
    {
      "cell_type": "code",
      "source": [
        "# # Training and Validating the Model\n",
        "# net_for_train_with_valid = project_customized_model().cuda()\n",
        "# summary(net_for_train_with_valid, (3, 32, 32))\n",
        "# train_with_valid(net_for_train_with_valid,\n",
        "#                  train_loader,\n",
        "#                  valid_loader,\n",
        "#                  BATCH_SIZE,\n",
        "#                  CHANNEL,\n",
        "#                  EPOCH_NUM, \n",
        "#                  LR, \n",
        "#                  WEIGHT_DECAY, \n",
        "#                  LR_DECAY_PERIOD,\n",
        "#                  HIGH_SPEED_LR_DECAY,\n",
        "#                  LOW_SPEED_LR_DECAY,\n",
        "#                  MOMENTUM)\n",
        "# "
      ],
      "metadata": {
        "id": "VHjM7kVVZviw"
      },
      "execution_count": 65,
      "outputs": []
    },
    {
      "cell_type": "markdown",
      "source": [
        "## 9.2 Execution for Train the ResNet model and Generate the Test Data Accuracy"
      ],
      "metadata": {
        "id": "BFNtaAFAaKlx"
      }
    },
    {
      "cell_type": "code",
      "source": [
        "# Train the ResNet model and Classifying the Test Data\n",
        "net_for_train_with_test = project_customized_model().cuda()\n",
        "summary(net_for_train_with_test, (3, 32, 32))\n",
        "train_with_test(net_for_train_with_test,\n",
        "                train_valid_loader, \n",
        "                test_loader, \n",
        "                BATCH_SIZE,\n",
        "                CHANNEL,\n",
        "                EPOCH_NUM, \n",
        "                LR, \n",
        "                WEIGHT_DECAY, \n",
        "                LR_DECAY_PERIOD,\n",
        "                HIGH_SPEED_LR_DECAY,\n",
        "                LOW_SPEED_LR_DECAY,\n",
        "                MOMENTUM)\n"
      ],
      "metadata": {
        "id": "vP8yvcPpZ973",
        "colab": {
          "base_uri": "https://localhost:8080/",
          "height": 1000
        },
        "outputId": "d94efbb2-7c97-40cb-f003-5a19b195dafe"
      },
      "execution_count": 66,
      "outputs": [
        {
          "output_type": "stream",
          "name": "stdout",
          "text": [
            "----------------------------------------------------------------\n",
            "        Layer (type)               Output Shape         Param #\n",
            "================================================================\n",
            "            Conv2d-1           [-1, 25, 32, 32]             675\n",
            "       BatchNorm2d-2           [-1, 25, 32, 32]              50\n",
            "            Conv2d-3           [-1, 25, 32, 32]          15,625\n",
            "       BatchNorm2d-4           [-1, 25, 32, 32]              50\n",
            "            Conv2d-5           [-1, 25, 32, 32]          15,625\n",
            "       BatchNorm2d-6           [-1, 25, 32, 32]              50\n",
            "        BasicBlock-7           [-1, 25, 32, 32]               0\n",
            "            Conv2d-8           [-1, 25, 32, 32]          15,625\n",
            "       BatchNorm2d-9           [-1, 25, 32, 32]              50\n",
            "           Conv2d-10           [-1, 25, 32, 32]          15,625\n",
            "      BatchNorm2d-11           [-1, 25, 32, 32]              50\n",
            "       BasicBlock-12           [-1, 25, 32, 32]               0\n",
            "           Conv2d-13           [-1, 50, 16, 16]          31,250\n",
            "      BatchNorm2d-14           [-1, 50, 16, 16]             100\n",
            "           Conv2d-15           [-1, 50, 16, 16]          62,500\n",
            "      BatchNorm2d-16           [-1, 50, 16, 16]             100\n",
            "           Conv2d-17           [-1, 50, 16, 16]           1,250\n",
            "      BatchNorm2d-18           [-1, 50, 16, 16]             100\n",
            "       BasicBlock-19           [-1, 50, 16, 16]               0\n",
            "           Conv2d-20           [-1, 50, 16, 16]          62,500\n",
            "      BatchNorm2d-21           [-1, 50, 16, 16]             100\n",
            "           Conv2d-22           [-1, 50, 16, 16]          62,500\n",
            "      BatchNorm2d-23           [-1, 50, 16, 16]             100\n",
            "       BasicBlock-24           [-1, 50, 16, 16]               0\n",
            "           Conv2d-25            [-1, 100, 8, 8]         125,000\n",
            "      BatchNorm2d-26            [-1, 100, 8, 8]             200\n",
            "           Conv2d-27            [-1, 100, 8, 8]         250,000\n",
            "      BatchNorm2d-28            [-1, 100, 8, 8]             200\n",
            "           Conv2d-29            [-1, 100, 8, 8]           5,000\n",
            "      BatchNorm2d-30            [-1, 100, 8, 8]             200\n",
            "       BasicBlock-31            [-1, 100, 8, 8]               0\n",
            "           Conv2d-32            [-1, 100, 8, 8]         250,000\n",
            "      BatchNorm2d-33            [-1, 100, 8, 8]             200\n",
            "           Conv2d-34            [-1, 100, 8, 8]         250,000\n",
            "      BatchNorm2d-35            [-1, 100, 8, 8]             200\n",
            "       BasicBlock-36            [-1, 100, 8, 8]               0\n",
            "           Conv2d-37            [-1, 200, 4, 4]         500,000\n",
            "      BatchNorm2d-38            [-1, 200, 4, 4]             400\n",
            "           Conv2d-39            [-1, 200, 4, 4]       1,000,000\n",
            "      BatchNorm2d-40            [-1, 200, 4, 4]             400\n",
            "           Conv2d-41            [-1, 200, 4, 4]          20,000\n",
            "      BatchNorm2d-42            [-1, 200, 4, 4]             400\n",
            "       BasicBlock-43            [-1, 200, 4, 4]               0\n",
            "           Conv2d-44            [-1, 200, 4, 4]       1,000,000\n",
            "      BatchNorm2d-45            [-1, 200, 4, 4]             400\n",
            "           Conv2d-46            [-1, 200, 4, 4]       1,000,000\n",
            "      BatchNorm2d-47            [-1, 200, 4, 4]             400\n",
            "       BasicBlock-48            [-1, 200, 4, 4]               0\n",
            "           Linear-49                   [-1, 10]           2,010\n",
            "================================================================\n",
            "Total params: 4,688,935\n",
            "Trainable params: 4,688,935\n",
            "Non-trainable params: 0\n",
            "----------------------------------------------------------------\n",
            "Input size (MB): 0.01\n",
            "Forward/backward pass size (MB): 4.39\n",
            "Params size (MB): 17.89\n",
            "Estimated Total Size (MB): 22.29\n",
            "----------------------------------------------------------------\n",
            "Start trainning, time:  2023-04-09 20:13:48.744726\n",
            "Total #Params:  4688935\n",
            "-----------------------------------------------------------------------------------------------------\n",
            "Epoch      Train loss       Test loss       Train acc        Test acc         lr         Running time\n",
            "=====================================================================================================\n",
            "    0         1.81444            1.59         0.32558         0.41713        0.1       0:00:10.264059\n",
            "    1         1.44001         1.53997         0.46874         0.44502        0.1       0:00:10.105705\n",
            "***lr before decay:  0.1\n",
            "***lr_decay:  0.4\n",
            "***lr after decay:  0.04000000000000001\n",
            "    2          1.1155         1.03979         0.59809         0.62619       0.04       0:00:10.168215\n",
            "    3         0.96729         0.99998         0.65566         0.63528       0.04       0:00:10.147030\n",
            "***lr before decay:  0.04000000000000001\n",
            "***lr_decay:  0.4\n",
            "***lr after decay:  0.016000000000000004\n",
            "    4         0.77814         0.79201         0.72516         0.72567      0.016       0:00:10.109529\n",
            "    5         0.71237         0.75978          0.7498         0.73269      0.016       0:00:10.288547\n",
            "***lr before decay:  0.016000000000000004\n",
            "***lr_decay:  0.4\n",
            "***lr after decay:  0.006400000000000002\n",
            "    6         0.58934         0.61239         0.79466         0.78194     0.0064       0:00:10.271311\n",
            "    7         0.55482         0.58154         0.80716         0.79786     0.0064       0:00:10.094394\n",
            "***lr before decay:  0.006400000000000002\n",
            "***lr_decay:  0.4\n",
            "***lr after decay:  0.002560000000000001\n",
            "    8         0.48827         0.52097         0.83141         0.82338    0.00256       0:00:10.086139\n",
            "    9         0.45789         0.51911          0.8416          0.8215    0.00256       0:00:10.135104\n",
            "***lr before decay:  0.002560000000000001\n",
            "***lr_decay:  0.4\n",
            "***lr after decay:  0.0010240000000000004\n",
            "   10         0.42305         0.48859         0.85543         0.83178   0.001024       0:00:10.400937\n",
            "   11         0.41118         0.48436         0.85709         0.83436   0.001024       0:00:10.347154\n",
            "***lr before decay:  0.0010240000000000004\n",
            "***lr_decay:  0.9\n",
            "***lr after decay:  0.0009216000000000004\n",
            "   12         0.39776          0.4747         0.86191         0.83881  0.0009216       0:00:10.228701\n",
            "   13         0.38863         0.46756         0.86593         0.84039  0.0009216       0:00:10.330970\n",
            "***lr before decay:  0.0009216000000000004\n",
            "***lr_decay:  0.9\n",
            "***lr after decay:  0.0008294400000000004\n",
            "   14         0.37915         0.47112         0.86943          0.8393 0.00082944       0:00:10.091753\n",
            "   15         0.36921         0.46766         0.87226         0.84296 0.00082944       0:00:10.374996\n",
            "***lr before decay:  0.0008294400000000004\n",
            "***lr_decay:  0.9\n",
            "***lr after decay:  0.0007464960000000004\n",
            "   16         0.35574         0.45987         0.87791         0.84355  0.0007465       0:00:10.197691\n",
            "   17         0.34834         0.45937         0.87898         0.84246  0.0007465       0:00:10.287264\n",
            "***lr before decay:  0.0007464960000000004\n",
            "***lr_decay:  0.9\n",
            "***lr after decay:  0.0006718464000000004\n",
            "   18         0.33701         0.45663         0.88531         0.84513 0.00067185       0:00:10.175893\n",
            "   19         0.33093         0.45377         0.88533          0.8478 0.00067185       0:00:10.264500\n",
            "***lr before decay:  0.0006718464000000004\n",
            "***lr_decay:  0.9\n",
            "***lr after decay:  0.0006046617600000004\n",
            "   20         0.32347          0.4584         0.88947           0.848 0.00060466       0:00:10.100189\n",
            "   21         0.31576         0.45057         0.89076         0.84662 0.00060466       0:00:10.013259\n",
            "***lr before decay:  0.0006046617600000004\n",
            "***lr_decay:  0.9\n",
            "***lr after decay:  0.0005441955840000003\n",
            "   22          0.3062         0.44967         0.89441         0.84869  0.0005442       0:00:10.240760\n",
            "   23         0.29828         0.44582         0.89904         0.85176  0.0005442       0:00:10.211524\n",
            "***lr before decay:  0.0005441955840000003\n",
            "***lr_decay:  0.9\n",
            "***lr after decay:  0.0004897760256000002\n",
            "   24         0.29142         0.44294          0.8994         0.85107 0.00048978       0:00:10.169669\n",
            "   25         0.28442         0.44603         0.90234         0.85097 0.00048978       0:00:10.349292\n",
            "***lr before decay:  0.0004897760256000002\n",
            "***lr_decay:  0.9\n",
            "***lr after decay:  0.0004407984230400002\n",
            "   26         0.27812         0.44385         0.90471         0.84909  0.0004408       0:00:10.195344\n",
            "   27         0.27272         0.44423         0.90632         0.85127  0.0004408       0:00:10.082145\n",
            "***lr before decay:  0.0004407984230400002\n",
            "***lr_decay:  0.9\n",
            "***lr after decay:  0.0003967185807360002\n",
            "   28         0.26443         0.43849         0.90974         0.85265 0.00039672       0:00:10.162497\n",
            "   29         0.25788         0.44173         0.91249          0.8482 0.00039672       0:00:10.503700\n",
            "Finished trainning, end time: 2023-04-09 20:18:56.206040 Total running time, 0:05:07.461314\n",
            "4688935\n"
          ]
        },
        {
          "output_type": "display_data",
          "data": {
            "text/plain": [
              "<Figure size 640x480 with 1 Axes>"
            ],
            "image/png": "[encoded data removed]"
          },
          "metadata": {}
        },
        {
          "output_type": "display_data",
          "data": {
            "text/plain": [
              "<Figure size 640x480 with 1 Axes>"
            ],
            "image/png": "[encoded data removed]"
          },
          "metadata": {}
        }
      ]
    },
    {
      "cell_type": "markdown",
      "source": [
        "# 10 **Find the Best Performance Model through Test Accuracy**\n",
        "\n",
        "\n",
        "*   Get the top test accuracy model through model .pt file\n",
        "*   Produce the Test Accuracy result based on this model"
      ],
      "metadata": {
        "id": "EH9N3E3h3nlT"
      }
    },
    {
      "cell_type": "code",
      "source": [
        "# #test the best test model acc\n",
        "# start_time = \"2023-04-07 21:11:59.803520\"\n",
        "# f = open(\"Train_With_Test_Log/\"+str(start_time)+\".txt\",'a')\n",
        "# device = torch.device('cuda:0' if torch.cuda.is_available() else 'cpu')\n",
        "# model = project_customized_model().to(device)\n",
        "# model_path = 'Train_With_Test_Model/' + str(start_time) + '_model.pt'\n",
        "# model.load_state_dict(torch.load(model_path, map_location=device), strict=False)\n",
        "# loss = nn.CrossEntropyLoss()\n",
        "# test_loss = 0.0\n",
        "# test_acc = 0.0\n",
        "# model.eval()\n",
        "# for j, data in enumerate(test_loader):\n",
        "#     with torch.no_grad():\n",
        "#         images, labels = data\n",
        "#         images = images.cuda()\n",
        "#         labels = labels.cuda()\n",
        "#         predicted_output = model(images)\n",
        "#         fit = loss(predicted_output,labels)\n",
        "#         test_loss += fit.item()\n",
        "#         _, pred = predicted_output.max(1)\n",
        "#         num_correct = (pred==labels).sum().item()\n",
        "#         acc = num_correct / images.shape[0]\n",
        "#         test_acc += acc\n",
        "# test_loss = test_loss / len(test_loader)\n",
        "# test_acc = test_acc / len(test_loader)\n",
        "# epoch_end_time = datetime.datetime.now()\n",
        "# # print('For the best model, Test loss %.6f, Test acc %.6f'%(test_loss, test_acc))\n",
        "# print(\"-------------------------------------------------\")\n",
        "# line_new = \"{:>15} {:>15} {:>15}\".format(\n",
        "#         \"Best Model Saved\", \"Test loss\", \"Test acc\")\n",
        "# print(line_new)\n",
        "# print(\"=================================================\")\n",
        "# line_new = \"{:>15} {:>15} {:>15}\".format(\n",
        "#     \"Best model\",\n",
        "#     round(test_loss, 5),\n",
        "#     round(test_acc, 5))\n",
        "# print(line_new)\n",
        "# print(\"-------------------------------------------------\")\n",
        "# print(\"\\n\")\n",
        "# f.write('For the best model, Test loss %.6f, Test acc %.6f'%(test_loss, test_acc)+'\\n')\n",
        "\n",
        "# # test the output of the model\n",
        "# predicted_output = model(images)\n",
        "# print(torch.max(predicted_output, 1))\n",
        "# f.write(str(torch.max(predicted_output, 1))+'\\n')\n",
        "# fit = loss(predicted_output, labels)\n",
        "# print(labels)\n",
        "# f.write(str(labels)+'\\n')\n",
        "# print(fit)\n",
        "# f.write(str(fit)+'\\n')\n",
        "# f.close()\n",
        "\n",
        "# plt.figure(figsize=(10,10))\n",
        "# for idx in np.arange(0,16):\n",
        "#     plt.subplot(4,4,idx+1)\n",
        "#     plt.imshow(images[idx].cpu()[0,:,:].squeeze(), cmap=plt.cm.gray)\n",
        "# plt.savefig('Train_With_Test_Log/'+str(start_time)+'_test_instances.png')\n"
      ],
      "metadata": {
        "id": "vp0d6hFY0bbS"
      },
      "execution_count": 67,
      "outputs": []
    },
    {
      "cell_type": "code",
      "source": [],
      "metadata": {
        "id": "smTClMIa2Afy"
      },
      "execution_count": 67,
      "outputs": []
    }
  ]
}